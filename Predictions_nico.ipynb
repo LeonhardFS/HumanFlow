{
 "cells": [
  {
   "cell_type": "code",
   "execution_count": 32,
   "metadata": {
    "collapsed": true
   },
   "outputs": [],
   "source": [
    "import numpy as np\n",
    "from scipy.stats.mstats import mode\n",
    "from copy import deepcopy\n",
    "import pandas as pd"
   ]
  },
  {
   "cell_type": "code",
   "execution_count": 82,
   "metadata": {
    "collapsed": false
   },
   "outputs": [
    {
     "data": {
      "text/plain": [
       "(43200, 57)"
      ]
     },
     "execution_count": 82,
     "metadata": {},
     "output_type": "execute_result"
    }
   ],
   "source": [
    "train_np = np.loadtxt('data/train.txt', delimiter=',', skiprows=1)\n",
    "train_np.shape"
   ]
  },
  {
   "cell_type": "code",
   "execution_count": 14,
   "metadata": {
    "collapsed": false
   },
   "outputs": [
    {
     "data": {
      "text/plain": [
       "array([[  1.00000000e+04,   0.00000000e+00,   0.00000000e+00,\n",
       "          0.00000000e+00,   0.00000000e+00,   0.00000000e+00,\n",
       "          0.00000000e+00,   0.00000000e+00,   0.00000000e+00,\n",
       "         -1.00000000e+00,   0.00000000e+00,   0.00000000e+00,\n",
       "          0.00000000e+00,  -1.00000000e+00,  -1.00000000e+00,\n",
       "          0.00000000e+00,   0.00000000e+00,   0.00000000e+00,\n",
       "          0.00000000e+00,   0.00000000e+00,  -1.00000000e+00,\n",
       "          0.00000000e+00,   0.00000000e+00,  -1.00000000e+00,\n",
       "          0.00000000e+00,   0.00000000e+00,   0.00000000e+00,\n",
       "          0.00000000e+00,   0.00000000e+00,  -1.00000000e+00,\n",
       "         -1.00000000e+00,  -1.00000000e+00,  -1.00000000e+00,\n",
       "          0.00000000e+00,  -1.00000000e+00,   0.00000000e+00,\n",
       "          0.00000000e+00,  -1.00000000e+00,  -1.00000000e+00,\n",
       "          0.00000000e+00,   0.00000000e+00,   0.00000000e+00,\n",
       "          0.00000000e+00,   0.00000000e+00,  -1.00000000e+00,\n",
       "          0.00000000e+00,  -1.00000000e+00,   0.00000000e+00,\n",
       "         -1.00000000e+00,  -1.00000000e+00,   0.00000000e+00,\n",
       "          0.00000000e+00,   0.00000000e+00,   0.00000000e+00,\n",
       "          0.00000000e+00,   0.00000000e+00,   0.00000000e+00]])"
      ]
     },
     "execution_count": 14,
     "metadata": {},
     "output_type": "execute_result"
    }
   ],
   "source": [
    "# Most frequent values for each sensor\n",
    "mode(train).mode.data"
   ]
  },
  {
   "cell_type": "code",
   "execution_count": 131,
   "metadata": {
    "collapsed": false
   },
   "outputs": [
    {
     "data": {
      "text/plain": [
       "Index([u'Sensor ID', u'Start Time', u'End Time', u'People Count'], dtype='object')"
      ]
     },
     "execution_count": 131,
     "metadata": {},
     "output_type": "execute_result"
    }
   ],
   "source": [
    "df_train = pd.read_csv('data/train.txt', skipinitialspace=True)\n",
    "df_test = pd.read_csv('data/test.txt', skipinitialspace=True)\n",
    "df_train.rename(columns={'Timestamp (DHHMM)':'time'}, inplace=True)\n",
    "df_test.keys()"
   ]
  },
  {
   "cell_type": "code",
   "execution_count": 136,
   "metadata": {
    "collapsed": false
   },
   "outputs": [],
   "source": [
    "# #### To build a submission file\n",
    "\n",
    "def timestamptoindex(ts):\n",
    "    mm = ts % 100\n",
    "    hh = (ts % (100 * 100)) // 100\n",
    "    d = ts // (100 * 100)\n",
    "    \n",
    "    index = mm + 60 * hh + 60 * 24 * (d - 1)\n",
    "    return index\n",
    "\n",
    "def get_count(row, train):\n",
    "    start = int(row['Start Time'])\n",
    "    end = int(row['End Time'])\n",
    "    col = row['Sensor ID']\n",
    "    i0 = timestamptoindex(start)\n",
    "    i1 = timestamptoindex(end)\n",
    "    \n",
    "    cum_sum = train[col][i0:i1].sum()\n",
    "    return cum_sum\n",
    "\n",
    "df_test['Count'] = df_test.apply(lambda row: get_count(row, df_train),axis=1)\n",
    "\n",
    "# Saving it under the name submission_name\n",
    "submission_name = 'dummy.csv'\n",
    "df_test['Index'] = df_test.index + 1\n",
    "df_test[['Index', 'Count']].to_csv(submission_name, index=False)"
   ]
  },
  {
   "cell_type": "code",
   "execution_count": 134,
   "metadata": {
    "collapsed": false
   },
   "outputs": [
    {
     "data": {
      "text/html": [
       "<div>\n",
       "<table border=\"1\" class=\"dataframe\">\n",
       "  <thead>\n",
       "    <tr style=\"text-align: right;\">\n",
       "      <th></th>\n",
       "      <th>Sensor ID</th>\n",
       "      <th>Start Time</th>\n",
       "      <th>End Time</th>\n",
       "      <th>People Count</th>\n",
       "    </tr>\n",
       "  </thead>\n",
       "  <tbody>\n",
       "    <tr>\n",
       "      <th>0</th>\n",
       "      <td>S9</td>\n",
       "      <td>11100</td>\n",
       "      <td>11159</td>\n",
       "      <td>-59</td>\n",
       "    </tr>\n",
       "    <tr>\n",
       "      <th>1</th>\n",
       "      <td>S26</td>\n",
       "      <td>11100</td>\n",
       "      <td>11159</td>\n",
       "      <td>-59</td>\n",
       "    </tr>\n",
       "    <tr>\n",
       "      <th>2</th>\n",
       "      <td>S48</td>\n",
       "      <td>11100</td>\n",
       "      <td>11159</td>\n",
       "      <td>-59</td>\n",
       "    </tr>\n",
       "    <tr>\n",
       "      <th>3</th>\n",
       "      <td>S9</td>\n",
       "      <td>11200</td>\n",
       "      <td>11259</td>\n",
       "      <td>-59</td>\n",
       "    </tr>\n",
       "    <tr>\n",
       "      <th>4</th>\n",
       "      <td>S26</td>\n",
       "      <td>11200</td>\n",
       "      <td>11259</td>\n",
       "      <td>-59</td>\n",
       "    </tr>\n",
       "  </tbody>\n",
       "</table>\n",
       "</div>"
      ],
      "text/plain": [
       "  Sensor ID  Start Time  End Time  People Count\n",
       "0        S9       11100     11159           -59\n",
       "1       S26       11100     11159           -59\n",
       "2       S48       11100     11159           -59\n",
       "3        S9       11200     11259           -59\n",
       "4       S26       11200     11259           -59"
      ]
     },
     "execution_count": 134,
     "metadata": {},
     "output_type": "execute_result"
    }
   ],
   "source": [
    "df_test.head()"
   ]
  },
  {
   "cell_type": "code",
   "execution_count": 72,
   "metadata": {
    "collapsed": false
   },
   "outputs": [],
   "source": [
    "test[['Index', 'Count']].to_csv('dummy.csv', index=False)"
   ]
  },
  {
   "cell_type": "raw",
   "metadata": {},
   "source": []
  }
 ],
 "metadata": {
  "kernelspec": {
   "display_name": "Python 2",
   "language": "python",
   "name": "python2"
  },
  "language_info": {
   "codemirror_mode": {
    "name": "ipython",
    "version": 2
   },
   "file_extension": ".py",
   "mimetype": "text/x-python",
   "name": "python",
   "nbconvert_exporter": "python",
   "pygments_lexer": "ipython2",
   "version": "2.7.9"
  }
 },
 "nbformat": 4,
 "nbformat_minor": 0
}
