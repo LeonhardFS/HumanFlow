{
 "cells": [
  {
   "cell_type": "code",
   "execution_count": 100,
   "metadata": {
    "collapsed": true
   },
   "outputs": [],
   "source": [
    "import numpy as np\n",
    "from scipy.stats.mstats import mode\n",
    "from copy import deepcopy\n",
    "import pandas as pd\n",
    "import time\n",
    "%matplotlib inline"
   ]
  },
  {
   "cell_type": "code",
   "execution_count": 2,
   "metadata": {
    "collapsed": false
   },
   "outputs": [
    {
     "data": {
      "text/plain": [
       "(43200, 57)"
      ]
     },
     "execution_count": 2,
     "metadata": {},
     "output_type": "execute_result"
    }
   ],
   "source": [
    "train_np = np.loadtxt('data/train.txt', delimiter=',', skiprows=1)\n",
    "train_np.shape"
   ]
  },
  {
   "cell_type": "code",
   "execution_count": 3,
   "metadata": {
    "collapsed": false
   },
   "outputs": [
    {
     "ename": "NameError",
     "evalue": "name 'train' is not defined",
     "output_type": "error",
     "traceback": [
      "\u001b[0;31m---------------------------------------------------------------------------\u001b[0m",
      "\u001b[0;31mNameError\u001b[0m                                 Traceback (most recent call last)",
      "\u001b[0;32m<ipython-input-3-83241622e351>\u001b[0m in \u001b[0;36m<module>\u001b[0;34m()\u001b[0m\n\u001b[1;32m      1\u001b[0m \u001b[0;31m# Most frequent values for each sensor\u001b[0m\u001b[0;34m\u001b[0m\u001b[0;34m\u001b[0m\u001b[0m\n\u001b[0;32m----> 2\u001b[0;31m \u001b[0mmode\u001b[0m\u001b[0;34m(\u001b[0m\u001b[0mtrain\u001b[0m\u001b[0;34m)\u001b[0m\u001b[0;34m.\u001b[0m\u001b[0mmode\u001b[0m\u001b[0;34m.\u001b[0m\u001b[0mdata\u001b[0m\u001b[0;34m\u001b[0m\u001b[0m\n\u001b[0m",
      "\u001b[0;31mNameError\u001b[0m: name 'train' is not defined"
     ]
    }
   ],
   "source": [
    "# Most frequent values for each sensor\n",
    "mode(train).mode.data"
   ]
  },
  {
   "cell_type": "code",
   "execution_count": 83,
   "metadata": {
    "collapsed": false
   },
   "outputs": [
    {
     "data": {
      "text/plain": [
       "Index([u'Sensor ID', u'Start Time', u'End Time', u'People Count'], dtype='object')"
      ]
     },
     "execution_count": 83,
     "metadata": {},
     "output_type": "execute_result"
    }
   ],
   "source": [
    "df_train = pd.read_csv('data/train.txt', skipinitialspace=True)\n",
    "df_test = pd.read_csv('data/test.txt', skipinitialspace=True)\n",
    "df_train.rename(columns={'Timestamp (DHHMM)':'time'}, inplace=True)\n",
    "df_test.keys()"
   ]
  },
  {
   "cell_type": "code",
   "execution_count": 135,
   "metadata": {
    "collapsed": false
   },
   "outputs": [],
   "source": [
    "# #### To build a submission file\n",
    "df_train_current = df_train_neighbors_avg\n",
    "submission_name = 'nearest_v4.csv'\n",
    "\n",
    "def timestamptoindex(ts):\n",
    "    mm = ts % 100\n",
    "    hh = (ts % (100 * 100)) // 100\n",
    "    d = ts // (100 * 100)\n",
    "    \n",
    "    index = mm + 60 * hh + 60 * 24 * (d - 1)\n",
    "    return index\n",
    "\n",
    "def get_count(row, train):\n",
    "    start = int(row['Start Time'])\n",
    "    end = int(row['End Time'])\n",
    "    col = row['Sensor ID']\n",
    "    i0 = timestamptoindex(start)\n",
    "    i1 = timestamptoindex(end)\n",
    "    \n",
    "    cum_sum = train[col][i0:i1].sum()\n",
    "    return cum_sum\n",
    "\n",
    "df_test['Count'] = df_test.apply(lambda row: get_count(row, df_train_current),axis=1)\n",
    "\n",
    "# Saving it under the name submission_name\n",
    "df_test['Index'] = df_test.index + 1\n",
    "df_test[['Index', 'Count']].to_csv(submission_name, index=False)"
   ]
  },
  {
   "cell_type": "code",
   "execution_count": 134,
   "metadata": {
    "collapsed": false
   },
   "outputs": [
    {
     "data": {
      "text/html": [
       "<div>\n",
       "<table border=\"1\" class=\"dataframe\">\n",
       "  <thead>\n",
       "    <tr style=\"text-align: right;\">\n",
       "      <th></th>\n",
       "      <th>Sensor ID</th>\n",
       "      <th>Start Time</th>\n",
       "      <th>End Time</th>\n",
       "      <th>People Count</th>\n",
       "    </tr>\n",
       "  </thead>\n",
       "  <tbody>\n",
       "    <tr>\n",
       "      <th>0</th>\n",
       "      <td>S9</td>\n",
       "      <td>11100</td>\n",
       "      <td>11159</td>\n",
       "      <td>-59</td>\n",
       "    </tr>\n",
       "    <tr>\n",
       "      <th>1</th>\n",
       "      <td>S26</td>\n",
       "      <td>11100</td>\n",
       "      <td>11159</td>\n",
       "      <td>-59</td>\n",
       "    </tr>\n",
       "    <tr>\n",
       "      <th>2</th>\n",
       "      <td>S48</td>\n",
       "      <td>11100</td>\n",
       "      <td>11159</td>\n",
       "      <td>-59</td>\n",
       "    </tr>\n",
       "    <tr>\n",
       "      <th>3</th>\n",
       "      <td>S9</td>\n",
       "      <td>11200</td>\n",
       "      <td>11259</td>\n",
       "      <td>-59</td>\n",
       "    </tr>\n",
       "    <tr>\n",
       "      <th>4</th>\n",
       "      <td>S26</td>\n",
       "      <td>11200</td>\n",
       "      <td>11259</td>\n",
       "      <td>-59</td>\n",
       "    </tr>\n",
       "  </tbody>\n",
       "</table>\n",
       "</div>"
      ],
      "text/plain": [
       "  Sensor ID  Start Time  End Time  People Count\n",
       "0        S9       11100     11159           -59\n",
       "1       S26       11100     11159           -59\n",
       "2       S48       11100     11159           -59\n",
       "3        S9       11200     11259           -59\n",
       "4       S26       11200     11259           -59"
      ]
     },
     "execution_count": 134,
     "metadata": {},
     "output_type": "execute_result"
    }
   ],
   "source": [
    "df_test.head()"
   ]
  },
  {
   "cell_type": "code",
   "execution_count": 72,
   "metadata": {
    "collapsed": false
   },
   "outputs": [],
   "source": [
    "test[['Index', 'Count']].to_csv('dummy.csv', index=False)"
   ]
  },
  {
   "cell_type": "code",
   "execution_count": 8,
   "metadata": {
    "collapsed": false
   },
   "outputs": [
    {
     "data": {
      "text/html": [
       "<div>\n",
       "<table border=\"1\" class=\"dataframe\">\n",
       "  <thead>\n",
       "    <tr style=\"text-align: right;\">\n",
       "      <th></th>\n",
       "      <th>time</th>\n",
       "      <th>S1</th>\n",
       "      <th>S2</th>\n",
       "      <th>S3</th>\n",
       "      <th>S4</th>\n",
       "      <th>S5</th>\n",
       "      <th>S6</th>\n",
       "      <th>S7</th>\n",
       "      <th>S8</th>\n",
       "      <th>S9</th>\n",
       "      <th>...</th>\n",
       "      <th>S47</th>\n",
       "      <th>S48</th>\n",
       "      <th>S49</th>\n",
       "      <th>S50</th>\n",
       "      <th>S51</th>\n",
       "      <th>S52</th>\n",
       "      <th>S53</th>\n",
       "      <th>S54</th>\n",
       "      <th>S55</th>\n",
       "      <th>S56</th>\n",
       "    </tr>\n",
       "  </thead>\n",
       "  <tbody>\n",
       "    <tr>\n",
       "      <th>0</th>\n",
       "      <td>10000</td>\n",
       "      <td>0</td>\n",
       "      <td>0</td>\n",
       "      <td>0</td>\n",
       "      <td>0</td>\n",
       "      <td>0</td>\n",
       "      <td>0</td>\n",
       "      <td>0</td>\n",
       "      <td>0</td>\n",
       "      <td>0</td>\n",
       "      <td>...</td>\n",
       "      <td>0</td>\n",
       "      <td>0</td>\n",
       "      <td>0</td>\n",
       "      <td>0</td>\n",
       "      <td>0</td>\n",
       "      <td>0</td>\n",
       "      <td>0</td>\n",
       "      <td>0</td>\n",
       "      <td>0</td>\n",
       "      <td>0</td>\n",
       "    </tr>\n",
       "    <tr>\n",
       "      <th>1</th>\n",
       "      <td>10001</td>\n",
       "      <td>0</td>\n",
       "      <td>0</td>\n",
       "      <td>0</td>\n",
       "      <td>0</td>\n",
       "      <td>0</td>\n",
       "      <td>0</td>\n",
       "      <td>0</td>\n",
       "      <td>1</td>\n",
       "      <td>0</td>\n",
       "      <td>...</td>\n",
       "      <td>0</td>\n",
       "      <td>0</td>\n",
       "      <td>0</td>\n",
       "      <td>0</td>\n",
       "      <td>0</td>\n",
       "      <td>0</td>\n",
       "      <td>0</td>\n",
       "      <td>0</td>\n",
       "      <td>0</td>\n",
       "      <td>0</td>\n",
       "    </tr>\n",
       "    <tr>\n",
       "      <th>2</th>\n",
       "      <td>10002</td>\n",
       "      <td>0</td>\n",
       "      <td>0</td>\n",
       "      <td>0</td>\n",
       "      <td>0</td>\n",
       "      <td>0</td>\n",
       "      <td>0</td>\n",
       "      <td>0</td>\n",
       "      <td>0</td>\n",
       "      <td>0</td>\n",
       "      <td>...</td>\n",
       "      <td>0</td>\n",
       "      <td>0</td>\n",
       "      <td>0</td>\n",
       "      <td>0</td>\n",
       "      <td>0</td>\n",
       "      <td>0</td>\n",
       "      <td>0</td>\n",
       "      <td>0</td>\n",
       "      <td>0</td>\n",
       "      <td>0</td>\n",
       "    </tr>\n",
       "    <tr>\n",
       "      <th>3</th>\n",
       "      <td>10003</td>\n",
       "      <td>0</td>\n",
       "      <td>0</td>\n",
       "      <td>0</td>\n",
       "      <td>0</td>\n",
       "      <td>0</td>\n",
       "      <td>0</td>\n",
       "      <td>0</td>\n",
       "      <td>0</td>\n",
       "      <td>0</td>\n",
       "      <td>...</td>\n",
       "      <td>0</td>\n",
       "      <td>0</td>\n",
       "      <td>0</td>\n",
       "      <td>0</td>\n",
       "      <td>0</td>\n",
       "      <td>0</td>\n",
       "      <td>0</td>\n",
       "      <td>0</td>\n",
       "      <td>0</td>\n",
       "      <td>0</td>\n",
       "    </tr>\n",
       "    <tr>\n",
       "      <th>4</th>\n",
       "      <td>10004</td>\n",
       "      <td>0</td>\n",
       "      <td>0</td>\n",
       "      <td>0</td>\n",
       "      <td>0</td>\n",
       "      <td>0</td>\n",
       "      <td>0</td>\n",
       "      <td>0</td>\n",
       "      <td>0</td>\n",
       "      <td>0</td>\n",
       "      <td>...</td>\n",
       "      <td>0</td>\n",
       "      <td>0</td>\n",
       "      <td>0</td>\n",
       "      <td>0</td>\n",
       "      <td>0</td>\n",
       "      <td>0</td>\n",
       "      <td>0</td>\n",
       "      <td>0</td>\n",
       "      <td>0</td>\n",
       "      <td>0</td>\n",
       "    </tr>\n",
       "  </tbody>\n",
       "</table>\n",
       "<p>5 rows × 57 columns</p>\n",
       "</div>"
      ],
      "text/plain": [
       "    time  S1  S2  S3  S4  S5  S6  S7  S8  S9 ...   S47  S48  S49  S50  S51  \\\n",
       "0  10000   0   0   0   0   0   0   0   0   0 ...     0    0    0    0    0   \n",
       "1  10001   0   0   0   0   0   0   0   1   0 ...     0    0    0    0    0   \n",
       "2  10002   0   0   0   0   0   0   0   0   0 ...     0    0    0    0    0   \n",
       "3  10003   0   0   0   0   0   0   0   0   0 ...     0    0    0    0    0   \n",
       "4  10004   0   0   0   0   0   0   0   0   0 ...     0    0    0    0    0   \n",
       "\n",
       "   S52  S53  S54  S55  S56  \n",
       "0    0    0    0    0    0  \n",
       "1    0    0    0    0    0  \n",
       "2    0    0    0    0    0  \n",
       "3    0    0    0    0    0  \n",
       "4    0    0    0    0    0  \n",
       "\n",
       "[5 rows x 57 columns]"
      ]
     },
     "execution_count": 8,
     "metadata": {},
     "output_type": "execute_result"
    }
   ],
   "source": [
    "df_train.head()"
   ]
  },
  {
   "cell_type": "code",
   "execution_count": 53,
   "metadata": {
    "collapsed": false
   },
   "outputs": [
    {
     "data": {
      "text/plain": [
       "<matplotlib.axes._subplots.AxesSubplot at 0x14959f310>"
      ]
     },
     "execution_count": 53,
     "metadata": {},
     "output_type": "execute_result"
    },
    {
     "data": {
      "image/png": "[encoded data removed]",
      "text/plain": [
       "<matplotlib.figure.Figure at 0x1495a9850>"
      ]
     },
     "metadata": {},
     "output_type": "display_data"
    }
   ],
   "source": [
    "import seaborn as sns\n",
    "df = df_train[['S'+str(i) for i in xrange(1, 30)]][:100]\n",
    "\n",
    "sns.heatmap(df)"
   ]
  },
  {
   "cell_type": "code",
   "execution_count": 54,
   "metadata": {
    "collapsed": true
   },
   "outputs": [],
   "source": [
    "# Nearest neighbors model\n",
    "adjacency_list = {\n",
    "    1: [2, 4, 35],\n",
    "    2: [1, 34, 35, 36, 41],\n",
    "    3: [4, 8],\n",
    "    4: [1, 3],\n",
    "    5: [7, 45],\n",
    "    6: [8, 12],\n",
    "    7: [5, 55],\n",
    "    8: [3, 6],\n",
    "    9: [12, 44],\n",
    "    10: [11, 55],\n",
    "    11: [10, 13],\n",
    "    12: [6, 9],\n",
    "    13: [11, 39],\n",
    "    14: [16, 54],\n",
    "    15: [14, 16],\n",
    "    16: [14, 15, 17],\n",
    "    17: [16, 56],\n",
    "    18: [19, 56],\n",
    "    19: [18, 20],\n",
    "    20: [19, 21],\n",
    "    21: [20, 22, 23],\n",
    "    22: [21, 23, 43],\n",
    "    23: [21, 24],\n",
    "    24: [23, 25],\n",
    "    25: [24, 26],\n",
    "    26: [25, 27],\n",
    "    27: [26, 28, 29],\n",
    "    28: [27, 47],\n",
    "    29: [27, 30],\n",
    "    30: [29, 31],\n",
    "    31: [30, 32],\n",
    "    32: [31, 33],\n",
    "    33: [32, 34, 35],\n",
    "    34: [2, 33, 35, 36, 41],\n",
    "    35: [1, 2, 34, 36, 41],\n",
    "    36: [2, 34, 35, 41],\n",
    "    37: [36, 38],\n",
    "    38: [37, 40],\n",
    "    39: [13, 43],\n",
    "    40: [38],\n",
    "    41: [2, 36, 42],\n",
    "    42: [41, 46],\n",
    "    43: [22, 39],\n",
    "    44: [9, 45],\n",
    "    45: [5, 44],\n",
    "    46: [42],\n",
    "    47: [28, 48],\n",
    "    48: [47, 49],\n",
    "    49: [48, 50],\n",
    "    50: [49, 51],\n",
    "    51: [50, 52, 53],\n",
    "    52: [50, 51, 53],\n",
    "    53: [51, 52, 54],\n",
    "    54: [53, 14],\n",
    "    55: [7, 10],\n",
    "    56: [17, 18]\n",
    "}"
   ]
  },
  {
   "cell_type": "code",
   "execution_count": 133,
   "metadata": {
    "collapsed": false
   },
   "outputs": [],
   "source": [
    "# Several possibilities to average the result among the neighbors:\n",
    "#    - cumulative sum of neighbors (v1)\n",
    "#    - average (truncated) (v2)\n",
    "#    - average (raw) (v3)\n",
    "#    - average (rounded) (v4)\n",
    "def fill_neighbors(row, col_name, adjacency_list):\n",
    "    if row[col_name] == -1:\n",
    "        new_value = 0.\n",
    "        count = 0\n",
    "        col_ind = int(col_name[1:])\n",
    "        for n in adjacency_list[col_ind]:\n",
    "            if row[n] != -1:\n",
    "                new_value += row[n]\n",
    "                count += 1\n",
    "        if count:\n",
    "            return round(new_value / (1. * count))\n",
    "        return new_value\n",
    "    else:\n",
    "        return row[col_name]\n",
    "\n"
   ]
  },
  {
   "cell_type": "code",
   "execution_count": 125,
   "metadata": {
    "collapsed": true
   },
   "outputs": [],
   "source": [
    "col_names = ['S'+str(i) for i in xrange(1, 57)]\n",
    "df_train_neighbors_avg = df_train.copy()"
   ]
  },
  {
   "cell_type": "code",
   "execution_count": 134,
   "metadata": {
    "collapsed": false
   },
   "outputs": [
    {
     "name": "stdout",
     "output_type": "stream",
     "text": [
      "Col S1 computed in 2.10306501389\n",
      "Col S2 computed in 2.03278207779\n",
      "Col S3 computed in 2.06884407997\n",
      "Col S4 computed in 2.40533804893\n",
      "Col S5 computed in 2.20628619194\n",
      "Col S6 computed in 2.76762294769\n",
      "Col S7 computed in 2.09706306458\n",
      "Col S8 computed in 2.02352499962\n",
      "Col S9 computed in 2.57313513756\n",
      "Col S10 computed in 2.03930902481\n",
      "Col S11 computed in 2.00582504272\n",
      "Col S12 computed in 2.09261488914\n",
      "Col S13 computed in 2.63840794563\n",
      "Col S14 computed in 2.64893007278\n",
      "Col S15 computed in 2.12684106827\n",
      "Col S16 computed in 1.99684691429\n",
      "Col S17 computed in 2.40207600594\n",
      "Col S18 computed in 2.01254200935\n",
      "Col S19 computed in 2.02449917793\n",
      "Col S20 computed in 2.66367197037\n",
      "Col S21 computed in 1.98050689697\n",
      "Col S22 computed in 2.03429889679\n",
      "Col S23 computed in 2.53910899162\n",
      "Col S24 computed in 1.97597718239\n",
      "Col S25 computed in 1.96993112564\n",
      "Col S26 computed in 2.46613812447\n",
      "Col S27 computed in 1.95004200935\n",
      "Col S28 computed in 2.49723696709\n",
      "Col S29 computed in 2.96787405014\n",
      "Col S30 computed in 2.44158601761\n",
      "Col S31 computed in 2.36785387993\n",
      "Col S32 computed in 2.62119913101\n",
      "Col S33 computed in 2.04130911827\n",
      "Col S34 computed in 3.46157598495\n",
      "Col S35 computed in 2.09205198288\n",
      "Col S36 computed in 2.16247701645\n",
      "Col S37 computed in 2.60940599442\n",
      "Col S38 computed in 2.55591201782\n",
      "Col S39 computed in 2.19566202164\n",
      "Col S40 computed in 1.9658639431\n",
      "Col S41 computed in 2.81948900223\n",
      "Col S42 computed in 2.02937602997\n",
      "Col S43 computed in 1.97888588905\n",
      "Col S44 computed in 2.45820307732\n",
      "Col S45 computed in 2.35953903198\n",
      "Col S46 computed in 2.27558994293\n",
      "Col S47 computed in 1.94694495201\n",
      "Col S48 computed in 2.48314404488\n",
      "Col S49 computed in 2.61238598824\n",
      "Col S50 computed in 1.97772288322\n",
      "Col S51 computed in 2.08942294121\n",
      "Col S52 computed in 2.04014801979\n",
      "Col S53 computed in 2.02780508995\n",
      "Col S54 computed in 1.97764182091\n",
      "Col S55 computed in 2.07131099701\n",
      "Col S56 computed in 1.95298886299\n"
     ]
    }
   ],
   "source": [
    "for col_name in col_names:\n",
    "    start = time.time()\n",
    "    df_train_neighbors_avg[col_name] = df_train.apply(lambda row: fill_neighbors(row, col_name, adjacency_list),axis=1)\n",
    "    total_time = time.time() - start\n",
    "    print 'Col {} computed in {}'.format(col_name, total_time)"
   ]
  },
  {
   "cell_type": "code",
   "execution_count": 127,
   "metadata": {
    "collapsed": false
   },
   "outputs": [
    {
     "name": "stdout",
     "output_type": "stream",
     "text": [
      "0\n"
     ]
    }
   ],
   "source": [
    "# Checking that all the values are filled\n",
    "cum_sum = 0\n",
    "for col in col_names:\n",
    "    cum_sum += len(df_train_neighbors_avg[df_train_neighbors[col] == -1])\n",
    "print cum_sum"
   ]
  },
  {
   "cell_type": "code",
   "execution_count": 116,
   "metadata": {
    "collapsed": false
   },
   "outputs": [
    {
     "data": {
      "text/html": [
       "<div>\n",
       "<table border=\"1\" class=\"dataframe\">\n",
       "  <thead>\n",
       "    <tr style=\"text-align: right;\">\n",
       "      <th></th>\n",
       "      <th>time</th>\n",
       "      <th>S1</th>\n",
       "      <th>S2</th>\n",
       "      <th>S3</th>\n",
       "      <th>S4</th>\n",
       "      <th>S5</th>\n",
       "      <th>S6</th>\n",
       "      <th>S7</th>\n",
       "      <th>S8</th>\n",
       "      <th>S9</th>\n",
       "      <th>...</th>\n",
       "      <th>S47</th>\n",
       "      <th>S48</th>\n",
       "      <th>S49</th>\n",
       "      <th>S50</th>\n",
       "      <th>S51</th>\n",
       "      <th>S52</th>\n",
       "      <th>S53</th>\n",
       "      <th>S54</th>\n",
       "      <th>S55</th>\n",
       "      <th>S56</th>\n",
       "    </tr>\n",
       "  </thead>\n",
       "  <tbody>\n",
       "    <tr>\n",
       "      <th>0</th>\n",
       "      <td>10000</td>\n",
       "      <td>0</td>\n",
       "      <td>0</td>\n",
       "      <td>0</td>\n",
       "      <td>0</td>\n",
       "      <td>0</td>\n",
       "      <td>0</td>\n",
       "      <td>0</td>\n",
       "      <td>0</td>\n",
       "      <td>0</td>\n",
       "      <td>...</td>\n",
       "      <td>0</td>\n",
       "      <td>0</td>\n",
       "      <td>0</td>\n",
       "      <td>0</td>\n",
       "      <td>0</td>\n",
       "      <td>0</td>\n",
       "      <td>0</td>\n",
       "      <td>0</td>\n",
       "      <td>0</td>\n",
       "      <td>0</td>\n",
       "    </tr>\n",
       "    <tr>\n",
       "      <th>1</th>\n",
       "      <td>10001</td>\n",
       "      <td>0</td>\n",
       "      <td>0</td>\n",
       "      <td>0</td>\n",
       "      <td>0</td>\n",
       "      <td>0</td>\n",
       "      <td>0</td>\n",
       "      <td>0</td>\n",
       "      <td>1</td>\n",
       "      <td>0</td>\n",
       "      <td>...</td>\n",
       "      <td>0</td>\n",
       "      <td>0</td>\n",
       "      <td>0</td>\n",
       "      <td>0</td>\n",
       "      <td>0</td>\n",
       "      <td>0</td>\n",
       "      <td>0</td>\n",
       "      <td>0</td>\n",
       "      <td>0</td>\n",
       "      <td>0</td>\n",
       "    </tr>\n",
       "    <tr>\n",
       "      <th>2</th>\n",
       "      <td>10002</td>\n",
       "      <td>0</td>\n",
       "      <td>0</td>\n",
       "      <td>0</td>\n",
       "      <td>0</td>\n",
       "      <td>0</td>\n",
       "      <td>0</td>\n",
       "      <td>0</td>\n",
       "      <td>0</td>\n",
       "      <td>0</td>\n",
       "      <td>...</td>\n",
       "      <td>0</td>\n",
       "      <td>0</td>\n",
       "      <td>0</td>\n",
       "      <td>0</td>\n",
       "      <td>0</td>\n",
       "      <td>0</td>\n",
       "      <td>0</td>\n",
       "      <td>0</td>\n",
       "      <td>0</td>\n",
       "      <td>0</td>\n",
       "    </tr>\n",
       "    <tr>\n",
       "      <th>3</th>\n",
       "      <td>10003</td>\n",
       "      <td>0</td>\n",
       "      <td>0</td>\n",
       "      <td>0</td>\n",
       "      <td>0</td>\n",
       "      <td>0</td>\n",
       "      <td>0</td>\n",
       "      <td>0</td>\n",
       "      <td>0</td>\n",
       "      <td>0</td>\n",
       "      <td>...</td>\n",
       "      <td>0</td>\n",
       "      <td>0</td>\n",
       "      <td>0</td>\n",
       "      <td>0</td>\n",
       "      <td>0</td>\n",
       "      <td>0</td>\n",
       "      <td>0</td>\n",
       "      <td>0</td>\n",
       "      <td>0</td>\n",
       "      <td>0</td>\n",
       "    </tr>\n",
       "    <tr>\n",
       "      <th>4</th>\n",
       "      <td>10004</td>\n",
       "      <td>0</td>\n",
       "      <td>0</td>\n",
       "      <td>0</td>\n",
       "      <td>0</td>\n",
       "      <td>0</td>\n",
       "      <td>0</td>\n",
       "      <td>0</td>\n",
       "      <td>0</td>\n",
       "      <td>0</td>\n",
       "      <td>...</td>\n",
       "      <td>0</td>\n",
       "      <td>0</td>\n",
       "      <td>0</td>\n",
       "      <td>0</td>\n",
       "      <td>0</td>\n",
       "      <td>0</td>\n",
       "      <td>0</td>\n",
       "      <td>0</td>\n",
       "      <td>0</td>\n",
       "      <td>0</td>\n",
       "    </tr>\n",
       "  </tbody>\n",
       "</table>\n",
       "<p>5 rows × 57 columns</p>\n",
       "</div>"
      ],
      "text/plain": [
       "    time  S1  S2  S3  S4  S5  S6  S7  S8  S9 ...   S47  S48  S49  S50  S51  \\\n",
       "0  10000   0   0   0   0   0   0   0   0   0 ...     0    0    0    0    0   \n",
       "1  10001   0   0   0   0   0   0   0   1   0 ...     0    0    0    0    0   \n",
       "2  10002   0   0   0   0   0   0   0   0   0 ...     0    0    0    0    0   \n",
       "3  10003   0   0   0   0   0   0   0   0   0 ...     0    0    0    0    0   \n",
       "4  10004   0   0   0   0   0   0   0   0   0 ...     0    0    0    0    0   \n",
       "\n",
       "   S52  S53  S54  S55  S56  \n",
       "0    0    0    0    0    0  \n",
       "1    0    0    0    0    0  \n",
       "2    0    0    0    0    0  \n",
       "3    0    0    0    0    0  \n",
       "4    0    0    0    0    0  \n",
       "\n",
       "[5 rows x 57 columns]"
      ]
     },
     "execution_count": 116,
     "metadata": {},
     "output_type": "execute_result"
    }
   ],
   "source": [
    "df_train_neighbors.head()"
   ]
  },
  {
   "cell_type": "code",
   "execution_count": 132,
   "metadata": {
    "collapsed": false
   },
   "outputs": [
    {
     "data": {
      "text/plain": [
       "1.0"
      ]
     },
     "execution_count": 132,
     "metadata": {},
     "output_type": "execute_result"
    }
   ],
   "source": [
    "round(3./5)"
   ]
  },
  {
   "cell_type": "code",
   "execution_count": null,
   "metadata": {
    "collapsed": true
   },
   "outputs": [],
   "source": []
  }
 ],
 "metadata": {
  "kernelspec": {
   "display_name": "Python 2",
   "language": "python",
   "name": "python2"
  },
  "language_info": {
   "codemirror_mode": {
    "name": "ipython",
    "version": 2
   },
   "file_extension": ".py",
   "mimetype": "text/x-python",
   "name": "python",
   "nbconvert_exporter": "python",
   "pygments_lexer": "ipython2",
   "version": "2.7.9"
  }
 },
 "nbformat": 4,
 "nbformat_minor": 0
}
