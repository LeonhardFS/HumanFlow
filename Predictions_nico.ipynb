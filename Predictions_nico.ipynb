{
 "cells": [
  {
   "cell_type": "code",
   "execution_count": 378,
   "metadata": {
    "collapsed": true
   },
   "outputs": [],
   "source": [
    "import numpy as np\n",
    "from scipy.stats.mstats import mode\n",
    "from copy import deepcopy\n",
    "import pandas as pd\n",
    "import time\n",
    "from helper import *\n",
    "%matplotlib inline"
   ]
  },
  {
   "cell_type": "code",
   "execution_count": 2,
   "metadata": {
    "collapsed": false
   },
   "outputs": [
    {
     "data": {
      "text/plain": [
       "(43200, 57)"
      ]
     },
     "execution_count": 2,
     "metadata": {},
     "output_type": "execute_result"
    }
   ],
   "source": [
    "train_np = np.loadtxt('data/train.txt', delimiter=',', skiprows=1)\n",
    "train_np.shape"
   ]
  },
  {
   "cell_type": "code",
   "execution_count": 3,
   "metadata": {
    "collapsed": false
   },
   "outputs": [
    {
     "ename": "NameError",
     "evalue": "name 'train' is not defined",
     "output_type": "error",
     "traceback": [
      "\u001b[0;31m---------------------------------------------------------------------------\u001b[0m",
      "\u001b[0;31mNameError\u001b[0m                                 Traceback (most recent call last)",
      "\u001b[0;32m<ipython-input-3-83241622e351>\u001b[0m in \u001b[0;36m<module>\u001b[0;34m()\u001b[0m\n\u001b[1;32m      1\u001b[0m \u001b[0;31m# Most frequent values for each sensor\u001b[0m\u001b[0;34m\u001b[0m\u001b[0;34m\u001b[0m\u001b[0m\n\u001b[0;32m----> 2\u001b[0;31m \u001b[0mmode\u001b[0m\u001b[0;34m(\u001b[0m\u001b[0mtrain\u001b[0m\u001b[0;34m)\u001b[0m\u001b[0;34m.\u001b[0m\u001b[0mmode\u001b[0m\u001b[0;34m.\u001b[0m\u001b[0mdata\u001b[0m\u001b[0;34m\u001b[0m\u001b[0m\n\u001b[0m",
      "\u001b[0;31mNameError\u001b[0m: name 'train' is not defined"
     ]
    }
   ],
   "source": [
    "# Most frequent values for each sensor\n",
    "mode(train).mode.data"
   ]
  },
  {
   "cell_type": "code",
   "execution_count": 273,
   "metadata": {
    "collapsed": false
   },
   "outputs": [
    {
     "data": {
      "text/plain": [
       "Index([u'Sensor ID', u'Start Time', u'End Time', u'People Count'], dtype='object')"
      ]
     },
     "execution_count": 273,
     "metadata": {},
     "output_type": "execute_result"
    }
   ],
   "source": [
    "df_train = pd.read_csv('data/train.txt', skipinitialspace=True)\n",
    "df_test = pd.read_csv('data/test.txt', skipinitialspace=True)\n",
    "df_train.rename(columns={'Timestamp (DHHMM)':'time'}, inplace=True)\n",
    "df_test.keys()"
   ]
  },
  {
   "cell_type": "code",
   "execution_count": 301,
   "metadata": {
    "collapsed": false
   },
   "outputs": [],
   "source": [
    "# #### To build a submission file\n",
    "df_train_current = df_train_day_avg\n",
    "submission_name = 'day_avg_v1.csv'\n",
    "\n",
    "def timestamptoindex(ts):\n",
    "    mm = ts % 100\n",
    "    hh = (ts % (100 * 100)) // 100\n",
    "    d = ts // (100 * 100)\n",
    "    \n",
    "    index = mm + 60 * hh + 60 * 24 * (d - 1)\n",
    "    return index\n",
    "\n",
    "def get_count(row, train):\n",
    "    start = int(row['Start Time'])\n",
    "    end = int(row['End Time'])\n",
    "    col = row['Sensor ID']\n",
    "    i0 = timestamptoindex(start)\n",
    "    i1 = timestamptoindex(end)\n",
    "    \n",
    "    cum_sum = train[col][i0:i1].sum()\n",
    "    return cum_sum\n",
    "\n",
    "df_test['Count'] = df_test.apply(lambda row: get_count(row, df_train_current),axis=1)\n",
    "\n",
    "# Saving it under the name submission_name\n",
    "df_test['Index'] = df_test.index + 1\n",
    "df_test[['Index', 'Count']].to_csv(submission_name, index=False)"
   ]
  },
  {
   "cell_type": "code",
   "execution_count": 134,
   "metadata": {
    "collapsed": false
   },
   "outputs": [
    {
     "data": {
      "text/html": [
       "<div>\n",
       "<table border=\"1\" class=\"dataframe\">\n",
       "  <thead>\n",
       "    <tr style=\"text-align: right;\">\n",
       "      <th></th>\n",
       "      <th>Sensor ID</th>\n",
       "      <th>Start Time</th>\n",
       "      <th>End Time</th>\n",
       "      <th>People Count</th>\n",
       "    </tr>\n",
       "  </thead>\n",
       "  <tbody>\n",
       "    <tr>\n",
       "      <th>0</th>\n",
       "      <td>S9</td>\n",
       "      <td>11100</td>\n",
       "      <td>11159</td>\n",
       "      <td>-59</td>\n",
       "    </tr>\n",
       "    <tr>\n",
       "      <th>1</th>\n",
       "      <td>S26</td>\n",
       "      <td>11100</td>\n",
       "      <td>11159</td>\n",
       "      <td>-59</td>\n",
       "    </tr>\n",
       "    <tr>\n",
       "      <th>2</th>\n",
       "      <td>S48</td>\n",
       "      <td>11100</td>\n",
       "      <td>11159</td>\n",
       "      <td>-59</td>\n",
       "    </tr>\n",
       "    <tr>\n",
       "      <th>3</th>\n",
       "      <td>S9</td>\n",
       "      <td>11200</td>\n",
       "      <td>11259</td>\n",
       "      <td>-59</td>\n",
       "    </tr>\n",
       "    <tr>\n",
       "      <th>4</th>\n",
       "      <td>S26</td>\n",
       "      <td>11200</td>\n",
       "      <td>11259</td>\n",
       "      <td>-59</td>\n",
       "    </tr>\n",
       "  </tbody>\n",
       "</table>\n",
       "</div>"
      ],
      "text/plain": [
       "  Sensor ID  Start Time  End Time  People Count\n",
       "0        S9       11100     11159           -59\n",
       "1       S26       11100     11159           -59\n",
       "2       S48       11100     11159           -59\n",
       "3        S9       11200     11259           -59\n",
       "4       S26       11200     11259           -59"
      ]
     },
     "execution_count": 134,
     "metadata": {},
     "output_type": "execute_result"
    }
   ],
   "source": [
    "df_test.head()"
   ]
  },
  {
   "cell_type": "code",
   "execution_count": 72,
   "metadata": {
    "collapsed": false
   },
   "outputs": [],
   "source": [
    "test[['Index', 'Count']].to_csv('dummy.csv', index=False)"
   ]
  },
  {
   "cell_type": "code",
   "execution_count": 8,
   "metadata": {
    "collapsed": false
   },
   "outputs": [
    {
     "data": {
      "text/html": [
       "<div>\n",
       "<table border=\"1\" class=\"dataframe\">\n",
       "  <thead>\n",
       "    <tr style=\"text-align: right;\">\n",
       "      <th></th>\n",
       "      <th>time</th>\n",
       "      <th>S1</th>\n",
       "      <th>S2</th>\n",
       "      <th>S3</th>\n",
       "      <th>S4</th>\n",
       "      <th>S5</th>\n",
       "      <th>S6</th>\n",
       "      <th>S7</th>\n",
       "      <th>S8</th>\n",
       "      <th>S9</th>\n",
       "      <th>...</th>\n",
       "      <th>S47</th>\n",
       "      <th>S48</th>\n",
       "      <th>S49</th>\n",
       "      <th>S50</th>\n",
       "      <th>S51</th>\n",
       "      <th>S52</th>\n",
       "      <th>S53</th>\n",
       "      <th>S54</th>\n",
       "      <th>S55</th>\n",
       "      <th>S56</th>\n",
       "    </tr>\n",
       "  </thead>\n",
       "  <tbody>\n",
       "    <tr>\n",
       "      <th>0</th>\n",
       "      <td>10000</td>\n",
       "      <td>0</td>\n",
       "      <td>0</td>\n",
       "      <td>0</td>\n",
       "      <td>0</td>\n",
       "      <td>0</td>\n",
       "      <td>0</td>\n",
       "      <td>0</td>\n",
       "      <td>0</td>\n",
       "      <td>0</td>\n",
       "      <td>...</td>\n",
       "      <td>0</td>\n",
       "      <td>0</td>\n",
       "      <td>0</td>\n",
       "      <td>0</td>\n",
       "      <td>0</td>\n",
       "      <td>0</td>\n",
       "      <td>0</td>\n",
       "      <td>0</td>\n",
       "      <td>0</td>\n",
       "      <td>0</td>\n",
       "    </tr>\n",
       "    <tr>\n",
       "      <th>1</th>\n",
       "      <td>10001</td>\n",
       "      <td>0</td>\n",
       "      <td>0</td>\n",
       "      <td>0</td>\n",
       "      <td>0</td>\n",
       "      <td>0</td>\n",
       "      <td>0</td>\n",
       "      <td>0</td>\n",
       "      <td>1</td>\n",
       "      <td>0</td>\n",
       "      <td>...</td>\n",
       "      <td>0</td>\n",
       "      <td>0</td>\n",
       "      <td>0</td>\n",
       "      <td>0</td>\n",
       "      <td>0</td>\n",
       "      <td>0</td>\n",
       "      <td>0</td>\n",
       "      <td>0</td>\n",
       "      <td>0</td>\n",
       "      <td>0</td>\n",
       "    </tr>\n",
       "    <tr>\n",
       "      <th>2</th>\n",
       "      <td>10002</td>\n",
       "      <td>0</td>\n",
       "      <td>0</td>\n",
       "      <td>0</td>\n",
       "      <td>0</td>\n",
       "      <td>0</td>\n",
       "      <td>0</td>\n",
       "      <td>0</td>\n",
       "      <td>0</td>\n",
       "      <td>0</td>\n",
       "      <td>...</td>\n",
       "      <td>0</td>\n",
       "      <td>0</td>\n",
       "      <td>0</td>\n",
       "      <td>0</td>\n",
       "      <td>0</td>\n",
       "      <td>0</td>\n",
       "      <td>0</td>\n",
       "      <td>0</td>\n",
       "      <td>0</td>\n",
       "      <td>0</td>\n",
       "    </tr>\n",
       "    <tr>\n",
       "      <th>3</th>\n",
       "      <td>10003</td>\n",
       "      <td>0</td>\n",
       "      <td>0</td>\n",
       "      <td>0</td>\n",
       "      <td>0</td>\n",
       "      <td>0</td>\n",
       "      <td>0</td>\n",
       "      <td>0</td>\n",
       "      <td>0</td>\n",
       "      <td>0</td>\n",
       "      <td>...</td>\n",
       "      <td>0</td>\n",
       "      <td>0</td>\n",
       "      <td>0</td>\n",
       "      <td>0</td>\n",
       "      <td>0</td>\n",
       "      <td>0</td>\n",
       "      <td>0</td>\n",
       "      <td>0</td>\n",
       "      <td>0</td>\n",
       "      <td>0</td>\n",
       "    </tr>\n",
       "    <tr>\n",
       "      <th>4</th>\n",
       "      <td>10004</td>\n",
       "      <td>0</td>\n",
       "      <td>0</td>\n",
       "      <td>0</td>\n",
       "      <td>0</td>\n",
       "      <td>0</td>\n",
       "      <td>0</td>\n",
       "      <td>0</td>\n",
       "      <td>0</td>\n",
       "      <td>0</td>\n",
       "      <td>...</td>\n",
       "      <td>0</td>\n",
       "      <td>0</td>\n",
       "      <td>0</td>\n",
       "      <td>0</td>\n",
       "      <td>0</td>\n",
       "      <td>0</td>\n",
       "      <td>0</td>\n",
       "      <td>0</td>\n",
       "      <td>0</td>\n",
       "      <td>0</td>\n",
       "    </tr>\n",
       "  </tbody>\n",
       "</table>\n",
       "<p>5 rows × 57 columns</p>\n",
       "</div>"
      ],
      "text/plain": [
       "    time  S1  S2  S3  S4  S5  S6  S7  S8  S9 ...   S47  S48  S49  S50  S51  \\\n",
       "0  10000   0   0   0   0   0   0   0   0   0 ...     0    0    0    0    0   \n",
       "1  10001   0   0   0   0   0   0   0   1   0 ...     0    0    0    0    0   \n",
       "2  10002   0   0   0   0   0   0   0   0   0 ...     0    0    0    0    0   \n",
       "3  10003   0   0   0   0   0   0   0   0   0 ...     0    0    0    0    0   \n",
       "4  10004   0   0   0   0   0   0   0   0   0 ...     0    0    0    0    0   \n",
       "\n",
       "   S52  S53  S54  S55  S56  \n",
       "0    0    0    0    0    0  \n",
       "1    0    0    0    0    0  \n",
       "2    0    0    0    0    0  \n",
       "3    0    0    0    0    0  \n",
       "4    0    0    0    0    0  \n",
       "\n",
       "[5 rows x 57 columns]"
      ]
     },
     "execution_count": 8,
     "metadata": {},
     "output_type": "execute_result"
    }
   ],
   "source": [
    "df_train.head()"
   ]
  },
  {
   "cell_type": "code",
   "execution_count": 53,
   "metadata": {
    "collapsed": false
   },
   "outputs": [
    {
     "data": {
      "text/plain": [
       "<matplotlib.axes._subplots.AxesSubplot at 0x14959f310>"
      ]
     },
     "execution_count": 53,
     "metadata": {},
     "output_type": "execute_result"
    },
    {
     "data": {
      "image/png": "[encoded data removed]",
      "text/plain": [
       "<matplotlib.figure.Figure at 0x1495a9850>"
      ]
     },
     "metadata": {},
     "output_type": "display_data"
    }
   ],
   "source": [
    "import seaborn as sns\n",
    "df = df_train[['S'+str(i) for i in xrange(1, 30)]][:100]\n",
    "\n",
    "sns.heatmap(df)"
   ]
  },
  {
   "cell_type": "code",
   "execution_count": 54,
   "metadata": {
    "collapsed": true
   },
   "outputs": [],
   "source": [
    "# Nearest neighbors model\n",
    "adjacency_list = {\n",
    "    1: [2, 4, 35],\n",
    "    2: [1, 34, 35, 36, 41],\n",
    "    3: [4, 8],\n",
    "    4: [1, 3],\n",
    "    5: [7, 45],\n",
    "    6: [8, 12],\n",
    "    7: [5, 55],\n",
    "    8: [3, 6],\n",
    "    9: [12, 44],\n",
    "    10: [11, 55],\n",
    "    11: [10, 13],\n",
    "    12: [6, 9],\n",
    "    13: [11, 39],\n",
    "    14: [16, 54],\n",
    "    15: [14, 16],\n",
    "    16: [14, 15, 17],\n",
    "    17: [16, 56],\n",
    "    18: [19, 56],\n",
    "    19: [18, 20],\n",
    "    20: [19, 21],\n",
    "    21: [20, 22, 23],\n",
    "    22: [21, 23, 43],\n",
    "    23: [21, 24],\n",
    "    24: [23, 25],\n",
    "    25: [24, 26],\n",
    "    26: [25, 27],\n",
    "    27: [26, 28, 29],\n",
    "    28: [27, 47],\n",
    "    29: [27, 30],\n",
    "    30: [29, 31],\n",
    "    31: [30, 32],\n",
    "    32: [31, 33],\n",
    "    33: [32, 34, 35],\n",
    "    34: [2, 33, 35, 36, 41],\n",
    "    35: [1, 2, 34, 36, 41],\n",
    "    36: [2, 34, 35, 41],\n",
    "    37: [36, 38],\n",
    "    38: [37, 40],\n",
    "    39: [13, 43],\n",
    "    40: [38],\n",
    "    41: [2, 36, 42],\n",
    "    42: [41, 46],\n",
    "    43: [22, 39],\n",
    "    44: [9, 45],\n",
    "    45: [5, 44],\n",
    "    46: [42],\n",
    "    47: [28, 48],\n",
    "    48: [47, 49],\n",
    "    49: [48, 50],\n",
    "    50: [49, 51],\n",
    "    51: [50, 52, 53],\n",
    "    52: [50, 51, 53],\n",
    "    53: [51, 52, 54],\n",
    "    54: [53, 14],\n",
    "    55: [7, 10],\n",
    "    56: [17, 18]\n",
    "}"
   ]
  },
  {
   "cell_type": "code",
   "execution_count": 133,
   "metadata": {
    "collapsed": false
   },
   "outputs": [],
   "source": [
    "# Several possibilities to average the result among the neighbors:\n",
    "#    - cumulative sum of neighbors (v1)\n",
    "#    - average (truncated) (v2)\n",
    "#    - average (raw) (v3) --> Best one: 9.22\n",
    "#    - average (rounded) (v4)\n",
    "def fill_neighbors(row, col_name, adjacency_list):\n",
    "    if row[col_name] == -1:\n",
    "        new_value = 0.\n",
    "        count = 0\n",
    "        col_ind = int(col_name[1:])\n",
    "        for n in adjacency_list[col_ind]:\n",
    "            if row[n] != -1:\n",
    "                new_value += row[n]\n",
    "                count += 1\n",
    "        if count:\n",
    "            return round(new_value / (1. * count))\n",
    "        return new_value\n",
    "    else:\n",
    "        return row[col_name]\n",
    "\n"
   ]
  },
  {
   "cell_type": "code",
   "execution_count": 125,
   "metadata": {
    "collapsed": true
   },
   "outputs": [],
   "source": [
    "col_names = ['S'+str(i) for i in xrange(1, 57)]\n",
    "df_train_neighbors_avg = df_train.copy()"
   ]
  },
  {
   "cell_type": "code",
   "execution_count": 134,
   "metadata": {
    "collapsed": false
   },
   "outputs": [
    {
     "name": "stdout",
     "output_type": "stream",
     "text": [
      "Col S1 computed in 2.10306501389\n",
      "Col S2 computed in 2.03278207779\n",
      "Col S3 computed in 2.06884407997\n",
      "Col S4 computed in 2.40533804893\n",
      "Col S5 computed in 2.20628619194\n",
      "Col S6 computed in 2.76762294769\n",
      "Col S7 computed in 2.09706306458\n",
      "Col S8 computed in 2.02352499962\n",
      "Col S9 computed in 2.57313513756\n",
      "Col S10 computed in 2.03930902481\n",
      "Col S11 computed in 2.00582504272\n",
      "Col S12 computed in 2.09261488914\n",
      "Col S13 computed in 2.63840794563\n",
      "Col S14 computed in 2.64893007278\n",
      "Col S15 computed in 2.12684106827\n",
      "Col S16 computed in 1.99684691429\n",
      "Col S17 computed in 2.40207600594\n",
      "Col S18 computed in 2.01254200935\n",
      "Col S19 computed in 2.02449917793\n",
      "Col S20 computed in 2.66367197037\n",
      "Col S21 computed in 1.98050689697\n",
      "Col S22 computed in 2.03429889679\n",
      "Col S23 computed in 2.53910899162\n",
      "Col S24 computed in 1.97597718239\n",
      "Col S25 computed in 1.96993112564\n",
      "Col S26 computed in 2.46613812447\n",
      "Col S27 computed in 1.95004200935\n",
      "Col S28 computed in 2.49723696709\n",
      "Col S29 computed in 2.96787405014\n",
      "Col S30 computed in 2.44158601761\n",
      "Col S31 computed in 2.36785387993\n",
      "Col S32 computed in 2.62119913101\n",
      "Col S33 computed in 2.04130911827\n",
      "Col S34 computed in 3.46157598495\n",
      "Col S35 computed in 2.09205198288\n",
      "Col S36 computed in 2.16247701645\n",
      "Col S37 computed in 2.60940599442\n",
      "Col S38 computed in 2.55591201782\n",
      "Col S39 computed in 2.19566202164\n",
      "Col S40 computed in 1.9658639431\n",
      "Col S41 computed in 2.81948900223\n",
      "Col S42 computed in 2.02937602997\n",
      "Col S43 computed in 1.97888588905\n",
      "Col S44 computed in 2.45820307732\n",
      "Col S45 computed in 2.35953903198\n",
      "Col S46 computed in 2.27558994293\n",
      "Col S47 computed in 1.94694495201\n",
      "Col S48 computed in 2.48314404488\n",
      "Col S49 computed in 2.61238598824\n",
      "Col S50 computed in 1.97772288322\n",
      "Col S51 computed in 2.08942294121\n",
      "Col S52 computed in 2.04014801979\n",
      "Col S53 computed in 2.02780508995\n",
      "Col S54 computed in 1.97764182091\n",
      "Col S55 computed in 2.07131099701\n",
      "Col S56 computed in 1.95298886299\n"
     ]
    }
   ],
   "source": [
    "for col_name in col_names:\n",
    "    start = time.time()\n",
    "    df_train_neighbors_avg[col_name] = df_train.apply(lambda row: fill_neighbors(row, col_name, adjacency_list),axis=1)\n",
    "    total_time = time.time() - start\n",
    "    print 'Col {} computed in {}'.format(col_name, total_time)"
   ]
  },
  {
   "cell_type": "code",
   "execution_count": 127,
   "metadata": {
    "collapsed": false
   },
   "outputs": [
    {
     "name": "stdout",
     "output_type": "stream",
     "text": [
      "0\n"
     ]
    }
   ],
   "source": [
    "# Checking that all the values are filled\n",
    "cum_sum = 0\n",
    "for col in col_names:\n",
    "    cum_sum += len(df_train_neighbors_avg[df_train_neighbors[col] == -1])\n",
    "print cum_sum"
   ]
  },
  {
   "cell_type": "code",
   "execution_count": 116,
   "metadata": {
    "collapsed": false
   },
   "outputs": [
    {
     "data": {
      "text/html": [
       "<div>\n",
       "<table border=\"1\" class=\"dataframe\">\n",
       "  <thead>\n",
       "    <tr style=\"text-align: right;\">\n",
       "      <th></th>\n",
       "      <th>time</th>\n",
       "      <th>S1</th>\n",
       "      <th>S2</th>\n",
       "      <th>S3</th>\n",
       "      <th>S4</th>\n",
       "      <th>S5</th>\n",
       "      <th>S6</th>\n",
       "      <th>S7</th>\n",
       "      <th>S8</th>\n",
       "      <th>S9</th>\n",
       "      <th>...</th>\n",
       "      <th>S47</th>\n",
       "      <th>S48</th>\n",
       "      <th>S49</th>\n",
       "      <th>S50</th>\n",
       "      <th>S51</th>\n",
       "      <th>S52</th>\n",
       "      <th>S53</th>\n",
       "      <th>S54</th>\n",
       "      <th>S55</th>\n",
       "      <th>S56</th>\n",
       "    </tr>\n",
       "  </thead>\n",
       "  <tbody>\n",
       "    <tr>\n",
       "      <th>0</th>\n",
       "      <td>10000</td>\n",
       "      <td>0</td>\n",
       "      <td>0</td>\n",
       "      <td>0</td>\n",
       "      <td>0</td>\n",
       "      <td>0</td>\n",
       "      <td>0</td>\n",
       "      <td>0</td>\n",
       "      <td>0</td>\n",
       "      <td>0</td>\n",
       "      <td>...</td>\n",
       "      <td>0</td>\n",
       "      <td>0</td>\n",
       "      <td>0</td>\n",
       "      <td>0</td>\n",
       "      <td>0</td>\n",
       "      <td>0</td>\n",
       "      <td>0</td>\n",
       "      <td>0</td>\n",
       "      <td>0</td>\n",
       "      <td>0</td>\n",
       "    </tr>\n",
       "    <tr>\n",
       "      <th>1</th>\n",
       "      <td>10001</td>\n",
       "      <td>0</td>\n",
       "      <td>0</td>\n",
       "      <td>0</td>\n",
       "      <td>0</td>\n",
       "      <td>0</td>\n",
       "      <td>0</td>\n",
       "      <td>0</td>\n",
       "      <td>1</td>\n",
       "      <td>0</td>\n",
       "      <td>...</td>\n",
       "      <td>0</td>\n",
       "      <td>0</td>\n",
       "      <td>0</td>\n",
       "      <td>0</td>\n",
       "      <td>0</td>\n",
       "      <td>0</td>\n",
       "      <td>0</td>\n",
       "      <td>0</td>\n",
       "      <td>0</td>\n",
       "      <td>0</td>\n",
       "    </tr>\n",
       "    <tr>\n",
       "      <th>2</th>\n",
       "      <td>10002</td>\n",
       "      <td>0</td>\n",
       "      <td>0</td>\n",
       "      <td>0</td>\n",
       "      <td>0</td>\n",
       "      <td>0</td>\n",
       "      <td>0</td>\n",
       "      <td>0</td>\n",
       "      <td>0</td>\n",
       "      <td>0</td>\n",
       "      <td>...</td>\n",
       "      <td>0</td>\n",
       "      <td>0</td>\n",
       "      <td>0</td>\n",
       "      <td>0</td>\n",
       "      <td>0</td>\n",
       "      <td>0</td>\n",
       "      <td>0</td>\n",
       "      <td>0</td>\n",
       "      <td>0</td>\n",
       "      <td>0</td>\n",
       "    </tr>\n",
       "    <tr>\n",
       "      <th>3</th>\n",
       "      <td>10003</td>\n",
       "      <td>0</td>\n",
       "      <td>0</td>\n",
       "      <td>0</td>\n",
       "      <td>0</td>\n",
       "      <td>0</td>\n",
       "      <td>0</td>\n",
       "      <td>0</td>\n",
       "      <td>0</td>\n",
       "      <td>0</td>\n",
       "      <td>...</td>\n",
       "      <td>0</td>\n",
       "      <td>0</td>\n",
       "      <td>0</td>\n",
       "      <td>0</td>\n",
       "      <td>0</td>\n",
       "      <td>0</td>\n",
       "      <td>0</td>\n",
       "      <td>0</td>\n",
       "      <td>0</td>\n",
       "      <td>0</td>\n",
       "    </tr>\n",
       "    <tr>\n",
       "      <th>4</th>\n",
       "      <td>10004</td>\n",
       "      <td>0</td>\n",
       "      <td>0</td>\n",
       "      <td>0</td>\n",
       "      <td>0</td>\n",
       "      <td>0</td>\n",
       "      <td>0</td>\n",
       "      <td>0</td>\n",
       "      <td>0</td>\n",
       "      <td>0</td>\n",
       "      <td>...</td>\n",
       "      <td>0</td>\n",
       "      <td>0</td>\n",
       "      <td>0</td>\n",
       "      <td>0</td>\n",
       "      <td>0</td>\n",
       "      <td>0</td>\n",
       "      <td>0</td>\n",
       "      <td>0</td>\n",
       "      <td>0</td>\n",
       "      <td>0</td>\n",
       "    </tr>\n",
       "  </tbody>\n",
       "</table>\n",
       "<p>5 rows × 57 columns</p>\n",
       "</div>"
      ],
      "text/plain": [
       "    time  S1  S2  S3  S4  S5  S6  S7  S8  S9 ...   S47  S48  S49  S50  S51  \\\n",
       "0  10000   0   0   0   0   0   0   0   0   0 ...     0    0    0    0    0   \n",
       "1  10001   0   0   0   0   0   0   0   1   0 ...     0    0    0    0    0   \n",
       "2  10002   0   0   0   0   0   0   0   0   0 ...     0    0    0    0    0   \n",
       "3  10003   0   0   0   0   0   0   0   0   0 ...     0    0    0    0    0   \n",
       "4  10004   0   0   0   0   0   0   0   0   0 ...     0    0    0    0    0   \n",
       "\n",
       "   S52  S53  S54  S55  S56  \n",
       "0    0    0    0    0    0  \n",
       "1    0    0    0    0    0  \n",
       "2    0    0    0    0    0  \n",
       "3    0    0    0    0    0  \n",
       "4    0    0    0    0    0  \n",
       "\n",
       "[5 rows x 57 columns]"
      ]
     },
     "execution_count": 116,
     "metadata": {},
     "output_type": "execute_result"
    }
   ],
   "source": [
    "df_train_neighbors.head()"
   ]
  },
  {
   "cell_type": "code",
   "execution_count": 132,
   "metadata": {
    "collapsed": false
   },
   "outputs": [
    {
     "data": {
      "text/plain": [
       "1.0"
      ]
     },
     "execution_count": 132,
     "metadata": {},
     "output_type": "execute_result"
    }
   ],
   "source": [
    "round(3./5)"
   ]
  },
  {
   "cell_type": "code",
   "execution_count": 154,
   "metadata": {
    "collapsed": false
   },
   "outputs": [
    {
     "data": {
      "image/png": "[encoded data removed]",
      "text/plain": [
       "<matplotlib.figure.Figure at 0x11db1de50>"
      ]
     },
     "metadata": {},
     "output_type": "display_data"
    },
    {
     "data": {
      "image/png": "[encoded data removed]",
      "text/plain": [
       "<matplotlib.figure.Figure at 0x11bbc4310>"
      ]
     },
     "metadata": {},
     "output_type": "display_data"
    },
    {
     "data": {
      "image/png": "[encoded data removed]",
      "text/plain": [
       "<matplotlib.figure.Figure at 0x149566350>"
      ]
     },
     "metadata": {},
     "output_type": "display_data"
    },
    {
     "data": {
      "image/png": "[encoded data removed]",
      "text/plain": [
       "<matplotlib.figure.Figure at 0x149380250>"
      ]
     },
     "metadata": {},
     "output_type": "display_data"
    }
   ],
   "source": [
    "# ### Exploring the time data by sensor (to build feature)\n",
    "\n",
    "# Large grid (looking for pattern over the days)\n",
    "col = 'S16'\n",
    "df_train[col].plot()\n",
    "plt.title('Sensor {}'.format(col))\n",
    "plt.show()\n",
    "for n in adjacency_list[int(col[1:])]:\n",
    "    n_name = 'S'+str(n)\n",
    "    df_train[n_name].plot()\n",
    "    plt.title('Sensor {}'.format(n_name))\n",
    "    plt.show()"
   ]
  },
  {
   "cell_type": "code",
   "execution_count": 153,
   "metadata": {
    "collapsed": false
   },
   "outputs": [
    {
     "data": {
      "image/png": "[encoded data removed]",
      "text/plain": [
       "<matplotlib.figure.Figure at 0x11bc338d0>"
      ]
     },
     "metadata": {},
     "output_type": "display_data"
    },
    {
     "data": {
      "image/png": "[encoded data removed]",
      "text/plain": [
       "<matplotlib.figure.Figure at 0x11ef197d0>"
      ]
     },
     "metadata": {},
     "output_type": "display_data"
    },
    {
     "data": {
      "image/png": "[encoded data removed]",
      "text/plain": [
       "<matplotlib.figure.Figure at 0x109babb50>"
      ]
     },
     "metadata": {},
     "output_type": "display_data"
    },
    {
     "data": {
      "image/png": "[encoded data removed]",
      "text/plain": [
       "<matplotlib.figure.Figure at 0x109d3acd0>"
      ]
     },
     "metadata": {},
     "output_type": "display_data"
    },
    {
     "data": {
      "image/png": "[encoded data removed]",
      "text/plain": [
       "<matplotlib.figure.Figure at 0x11c069790>"
      ]
     },
     "metadata": {},
     "output_type": "display_data"
    },
    {
     "data": {
      "image/png": "[encoded data removed]",
      "text/plain": [
       "<matplotlib.figure.Figure at 0x11d671e50>"
      ]
     },
     "metadata": {},
     "output_type": "display_data"
    }
   ],
   "source": [
    "# ### Exploring the time data by sensor (to build feature)\n",
    "col = 'S35'\n",
    "df_train[col].plot()\n",
    "plt.title('Sensor {}'.format(col))\n",
    "plt.show()\n",
    "for n in adjacency_list[int(col[1:])]:\n",
    "    n_name = 'S'+str(n)\n",
    "    df_train[n_name].plot()\n",
    "    plt.title('Sensor {}'.format(n_name))\n",
    "    plt.show()"
   ]
  },
  {
   "cell_type": "code",
   "execution_count": 158,
   "metadata": {
    "collapsed": false
   },
   "outputs": [
    {
     "data": {
      "image/png": "[encoded data removed]",
      "text/plain": [
       "<matplotlib.figure.Figure at 0x11bf5ce50>"
      ]
     },
     "metadata": {},
     "output_type": "display_data"
    },
    {
     "data": {
      "image/png": "[encoded data removed]",
      "text/plain": [
       "<matplotlib.figure.Figure at 0x11c04f950>"
      ]
     },
     "metadata": {},
     "output_type": "display_data"
    },
    {
     "data": {
      "image/png": "[encoded data removed]",
      "text/plain": [
       "<matplotlib.figure.Figure at 0x11eb720d0>"
      ]
     },
     "metadata": {},
     "output_type": "display_data"
    },
    {
     "data": {
      "image/png": "[encoded data removed]",
      "text/plain": [
       "<matplotlib.figure.Figure at 0x11e8aa9d0>"
      ]
     },
     "metadata": {},
     "output_type": "display_data"
    }
   ],
   "source": [
    "# Finer grid (looking for pattern over the days)\n",
    "day0 = 4\n",
    "day1 = 7\n",
    "col = 'S16'\n",
    "df_train[col][day0 * 1440:day1*1440].plot()\n",
    "plt.title('Sensor {}'.format(col))\n",
    "plt.show()\n",
    "for n in adjacency_list[int(col[1:])]:\n",
    "    n_name = 'S'+str(n)\n",
    "    df_train[n_name][day0 * 1440:day1*1440].plot()\n",
    "    plt.title('Sensor {}'.format(n_name))\n",
    "    plt.show()"
   ]
  },
  {
   "cell_type": "code",
   "execution_count": 275,
   "metadata": {
    "collapsed": false
   },
   "outputs": [
    {
     "data": {
      "text/plain": [
       "<pandas.core.groupby.DataFrameGroupBy object at 0x10aa41250>"
      ]
     },
     "execution_count": 275,
     "metadata": {},
     "output_type": "execute_result"
    }
   ],
   "source": [
    "# ### Building a reference table with average daily value of the sensor\n",
    "\n",
    "df_train['day_time'] = df_train.time % 10000\n",
    "\n",
    "# Initializing the dataframe\n",
    "# Update: rounding the value\n",
    "col_name = 'S1'\n",
    "df_day_avg_values = df_train[[col_name, 'day_time']][df_train[col_name] != -1].groupby('day_time').mean().apply(pd.Series.round)\n",
    "\n",
    "for col_name in col_names[1:]:\n",
    "    df_day_avg_values = df_day_avg_values.join(df_train[[col_name, 'day_time']][df_train[col_name] != -1].groupby('day_time').mean().apply(pd.Series.round))"
   ]
  },
  {
   "cell_type": "code",
   "execution_count": 299,
   "metadata": {
    "collapsed": false
   },
   "outputs": [],
   "source": [
    "# Dummy prediction with avg day_time value\n",
    "df_train_day_avg = df_train.copy()\n",
    "\n",
    "for col in col_names:\n",
    "    missing = df_train_day_avg[df_train_day_avg[col] == -1]\n",
    "    # Extracting the column of col\n",
    "    col_values = df_train_day_avg[col]\n",
    "    day_times = missing['day_time'].values\n",
    "    # Setting the missing values\n",
    "    col_values[missing.index] = df_day_avg_values.ix[day_times][col]\n",
    "    # Setting back the column into the dataframe\n",
    "    df_train_day_avg[col] = col_values"
   ]
  },
  {
   "cell_type": "code",
   "execution_count": 300,
   "metadata": {
    "collapsed": false
   },
   "outputs": [
    {
     "name": "stdout",
     "output_type": "stream",
     "text": [
      "0\n"
     ]
    }
   ],
   "source": [
    "# Checking that all the values are filled\n",
    "cum_sum = 0\n",
    "for col in col_names:\n",
    "    cum_sum += len(df_train_day_avg[df_train_day_avg[col] == -1])\n",
    "print cum_sum"
   ]
  },
  {
   "cell_type": "code",
   "execution_count": 308,
   "metadata": {
    "collapsed": false
   },
   "outputs": [],
   "source": [
    "model_avg_daily = np.loadtxt('models/day_avg_v1.csv', delimiter=',', skiprows=1)\n",
    "model_adjacent_leo = np.loadtxt('models/nearest_v5Leo.csv', delimiter=',', skiprows=1)"
   ]
  },
  {
   "cell_type": "code",
   "execution_count": 329,
   "metadata": {
    "collapsed": false
   },
   "outputs": [],
   "source": [
    "model_combined = (1.25 * model_adjacent_leo - 0.25 * model_avg_daily)"
   ]
  },
  {
   "cell_type": "code",
   "execution_count": 330,
   "metadata": {
    "collapsed": false
   },
   "outputs": [],
   "source": [
    "model_combined = pd.DataFrame(data=model_combined.astype('int32'), columns=['Index', 'Count'])"
   ]
  },
  {
   "cell_type": "code",
   "execution_count": 328,
   "metadata": {
    "collapsed": false
   },
   "outputs": [],
   "source": [
    "model_combined.to_csv('models/daily_avg_leov5_combined.csv', index=False)"
   ]
  },
  {
   "cell_type": "code",
   "execution_count": 383,
   "metadata": {
    "collapsed": true
   },
   "outputs": [],
   "source": [
    "def compute_adjlist(threshold, df):\n",
    "    # computing the adjacency list based on distance\n",
    "    for key in xrange(56):\n",
    "        node = key + 1\n",
    "        adjacency_list[node] = []\n",
    "        # go through all other nodes, if distance is below threshold, fine!\n",
    "        for other_key in xrange(56):\n",
    "            if other_key == key:\n",
    "                continue\n",
    "\n",
    "            a = np.array([df.loc[key].X, df.loc[key].Y])\n",
    "            b = np.array([df.loc[other_key].X, df.loc[other_key].Y])\n",
    "            dist = np.linalg.norm(a - b, ord=1)\n",
    "\n",
    "            if dist < threshold:\n",
    "                adjacency_list[node].append(other_key + 1)\n",
    "                \n",
    "    return adjacency_list"
   ]
  },
  {
   "cell_type": "code",
   "execution_count": 398,
   "metadata": {
    "collapsed": false
   },
   "outputs": [
    {
     "name": "stdout",
     "output_type": "stream",
     "text": [
      "Col S1 computed in 3.26634693146\n",
      "Col S2 computed in 2.48598313332\n",
      "Col S3 computed in 2.19449210167\n",
      "Col S4 computed in 2.48135614395\n",
      "Col S5 computed in 2.13236904144\n",
      "Col S6 computed in 3.72565412521\n",
      "Col S7 computed in 2.08922505379\n",
      "Col S8 computed in 2.19242691994\n",
      "Col S9 computed in 4.61133813858\n",
      "Col S10 computed in 2.18096804619\n",
      "Col S11 computed in 2.10064911842\n",
      "Col S12 computed in 2.42344903946\n",
      "Col S13 computed in 6.22557497025\n",
      "Col S14 computed in 5.74899196625\n",
      "Col S15 computed in 2.21336603165\n",
      "Col S16 computed in 2.07288908958\n",
      "Col S17 computed in 4.22559094429\n",
      "Col S18 computed in 2.26709699631\n",
      "Col S19 computed in 2.26830410957\n",
      "Col S20 computed in 5.88508892059\n",
      "Col S21 computed in 2.54782295227\n",
      "Col S22 computed in 2.72314715385\n",
      "Col S23 computed in 8.14503312111\n",
      "Col S24 computed in 3.94950580597\n",
      "Col S25 computed in 3.80545020103\n",
      "Col S26 computed in 5.76731300354\n",
      "Col S27 computed in 2.23276877403\n",
      "Col S28 computed in 4.56110405922\n",
      "Col S29 computed in 5.51388812065\n",
      "Col S30 computed in 4.37618708611\n",
      "Col S31 computed in 4.91875982285\n",
      "Col S32 computed in 3.91755700111\n",
      "Col S33 computed in 2.373898983\n",
      "Col S34 computed in 5.37043309212\n",
      "Col S35 computed in 2.49786090851\n",
      "Col S36 computed in 3.56664800644\n",
      "Col S37 computed in 6.51308393478\n",
      "Col S38 computed in 4.33462095261\n",
      "Col S39 computed in 2.59115600586\n",
      "Col S40 computed in 2.15358614922\n",
      "Col S41 computed in 5.46739816666\n",
      "Col S42 computed in 2.34612798691\n",
      "Col S43 computed in 2.36624789238\n",
      "Col S44 computed in 4.52326798439\n",
      "Col S45 computed in 3.92320394516\n",
      "Col S46 computed in 3.96281003952\n",
      "Col S47 computed in 2.02886199951\n",
      "Col S48 computed in 4.79439210892\n",
      "Col S49 computed in 4.92202496529\n",
      "Col S50 computed in 2.23975396156\n",
      "Col S51 computed in 2.923361063\n",
      "Col S52 computed in 2.49643111229\n",
      "Col S53 computed in 2.24239015579\n",
      "Col S54 computed in 2.48240208626\n",
      "Col S55 computed in 2.36917591095\n",
      "Col S56 computed in 2.08530783653\n"
     ]
    }
   ],
   "source": [
    "# ### Building best model so far\n",
    "\n",
    "def fill_neighbors(row, col_name, adjacency_list):\n",
    "    if row[col_name] == -1:\n",
    "        new_value = 0.\n",
    "        count = 0\n",
    "        col_ind = int(col_name[1:])\n",
    "        pos = 0\n",
    "        for n in adjacency_list[col_ind]:\n",
    "            if row[n] != -1:\n",
    "                new_value += row[n] * weight_list[col_ind][pos]\n",
    "                count += weight_list[col_ind][pos] # + 1\n",
    "            pos = pos + 1\n",
    "            \n",
    "        # if some neighbours were working return their average (raw)\n",
    "        if count:\n",
    "            return round(new_value / (1. * count))\n",
    "        \n",
    "        # if no neighbours were working, return 0 (most frequent value)\n",
    "        return new_value\n",
    "    else:\n",
    "        return row[col_name]\n",
    "\n",
    "# compute weights based on distance\n",
    "def compute_invdist_weights(adjacency_list):\n",
    "    df_sensors = pd.read_csv('data/sensor-coordinates.txt')\n",
    "    df_sensors.columns = ['SID', 'X', 'Y']\n",
    "\n",
    "    weight_list = {}\n",
    "    for key in adjacency_list.keys():\n",
    "        weight_list[key] = []\n",
    "        b = np.array([df_sensors.loc[key - 1].X, df_sensors.loc[key - 1].Y])\n",
    "        for el in adjacency_list[key]:\n",
    "            # manhattan distance\n",
    "            a = np.array([df_sensors.loc[el - 1].X, df_sensors.loc[el - 1].Y])\n",
    "            dist = np.linalg.norm(a - b, ord=1)\n",
    "\n",
    "            # inverse distance weighting\n",
    "            weight_list[key].append(1.0 / dist)\n",
    "\n",
    "        # scale it accordingly\n",
    "        weight_list[key] = np.array(weight_list[key])\n",
    "        weight_list[key] = weight_list[key] / np.sum(weight_list[key])\n",
    "    return weight_list\n",
    "\n",
    "weight_list = compute_invdist_weights(adjacency_list_leo)\n",
    "df_model_leo = df_train.copy()\n",
    "\n",
    "for col_name in col_names:\n",
    "    start = time.time()\n",
    "    df_model_leo[col_name] = df_train.apply(lambda row: fill_neighbors(row, col_name, adjacency_list),axis=1)\n",
    "    total_time = time.time() - start\n",
    "    print 'Col {} computed in {}'.format(col_name, total_time)"
   ]
  },
  {
   "cell_type": "code",
   "execution_count": null,
   "metadata": {
    "collapsed": true
   },
   "outputs": [],
   "source": [
    "# ### Building features\n",
    "df_sensors = pd.read_csv('data/sensor-coordinates.txt')\n",
    "df_sensors.columns = ['SID', 'X', 'Y']\n",
    "adjacency_list_leo = compute_adjlist(27., df_sensors)"
   ]
  },
  {
   "cell_type": "code",
   "execution_count": 445,
   "metadata": {
    "collapsed": false
   },
   "outputs": [
    {
     "name": "stdout",
     "output_type": "stream",
     "text": [
      "size train set  40715\n",
      "size test set  2485\n",
      "Column: S1, Running time: 0.706988096237\n",
      "size train set  41530\n",
      "size test set  1670\n",
      "Column: S2, Running time: 0.293888092041\n",
      "size train set  41948\n",
      "size test set  1252\n",
      "Column: S3, Running time: 0.268403053284\n",
      "size train set  39245\n",
      "size test set  3955\n",
      "Column: S4, Running time: 0.259322166443\n",
      "size train set  41840\n",
      "size test set  1360\n",
      "Column: S5, Running time: 0.221834182739\n",
      "size train set  26799\n",
      "size test set  16401\n",
      "Column: S6, Running time: 0.215312004089\n",
      "size train set  42170\n",
      "size test set  1030\n",
      "Column: S7, Running time: 0.283931970596\n",
      "size train set  40939\n",
      "size test set  2261\n",
      "Column: S8, Running time: 0.24501490593\n",
      "size train set  19456\n",
      "size test set  23744\n",
      "Column: S9, Running time: 0.284938812256\n",
      "size train set  41417\n",
      "size test set  1783\n",
      "Column: S10, Running time: 0.216699838638\n",
      "size train set  42060\n",
      "size test set  1140\n",
      "Column: S11, Running time: 0.268091917038\n",
      "size train set  37817\n",
      "size test set  5383\n",
      "Column: S12, Running time: 0.277164936066\n",
      "size train set  18463\n",
      "size test set  24737\n",
      "Column: S13, Running time: 0.265563011169\n",
      "size train set  18029\n",
      "size test set  25171\n",
      "Column: S14, Running time: 0.244320869446\n",
      "size train set  40918\n",
      "size test set  2282\n",
      "Column: S15, Running time: 0.228536128998\n",
      "size train set  42836\n",
      "size test set  364\n",
      "Column: S16, Running time: 0.234246969223\n",
      "size train set  26430\n",
      "size test set  16770\n",
      "Column: S17, Running time: 0.280188083649\n",
      "size train set  41186\n",
      "size test set  2014\n",
      "Column: S18, Running time: 0.220871925354\n",
      "size train set  41972\n",
      "size test set  1228\n",
      "Column: S19, Running time: 0.223482847214\n",
      "size train set  19044\n",
      "size test set  24156\n",
      "Column: S20, Running time: 0.264492988586\n",
      "size train set  41123\n",
      "size test set  2077\n",
      "Column: S21, Running time: 0.295487880707\n",
      "size train set  41286\n",
      "size test set  1914\n",
      "Column: S22, Running time: 0.275580883026\n",
      "size train set  21644\n",
      "size test set  21556\n",
      "Column: S23, Running time: 0.24192404747\n",
      "size train set  41530\n",
      "size test set  1670\n",
      "Column: S24, Running time: 0.241863965988\n",
      "size train set  42048\n",
      "size test set  1152\n",
      "Column: S25, Running time: 0.245668888092\n",
      "size train set  24942\n",
      "size test set  18258\n",
      "Column: S26, Running time: 0.276540994644\n",
      "size train set  42275\n",
      "size test set  925\n",
      "Column: S27, Running time: 0.31350684166\n",
      "size train set  23990\n",
      "size test set  19210\n",
      "Column: S28, Running time: 0.268497943878\n",
      "size train set  16527\n",
      "size test set  26673\n",
      "Column: S29, Running time: 0.223397016525\n",
      "size train set  21273\n",
      "size test set  21927\n",
      "Column: S30, Running time: 0.233772993088\n",
      "size train set  23067\n",
      "size test set  20133\n",
      "Column: S31, Running time: 0.222495079041\n",
      "size train set  18551\n",
      "size test set  24649\n",
      "Column: S32, Running time: 0.265983104706\n",
      "size train set  41918\n",
      "size test set  1282\n",
      "Column: S33, Running time: 0.26221203804\n",
      "size train set  20382\n",
      "size test set  22818\n",
      "Column: S34, Running time: 0.221687078476\n",
      "size train set  40464\n",
      "size test set  2736\n",
      "Column: S35, Running time: 0.237606048584\n",
      "size train set  38536\n",
      "size test set  4664\n",
      "Column: S36, Running time: 0.23775601387\n",
      "size train set  18199\n",
      "size test set  25001\n",
      "Column: S37, Running time: 0.240694999695\n",
      "size train set  18967\n",
      "size test set  24233\n",
      "Column: S38, Running time: 0.295928955078\n",
      "size train set  38208\n",
      "size test set  4992\n",
      "Column: S39, Running time: 0.26048707962\n",
      "size train set  41830\n",
      "size test set  1370\n",
      "Column: S40, Running time: 0.262998104095\n",
      "size train set  23399\n",
      "size test set  19801\n",
      "Column: S41, Running time: 0.232185125351\n",
      "size train set  40534\n",
      "size test set  2666\n",
      "Column: S42, Running time: 0.280495166779\n",
      "size train set  42154\n",
      "size test set  1046\n",
      "Column: S43, Running time: 0.254478931427\n",
      "size train set  19621\n",
      "size test set  23579\n",
      "Column: S44, Running time: 0.201450109482\n",
      "size train set  26390\n",
      "size test set  16810\n",
      "Column: S45, Running time: 0.191755056381\n",
      "size train set  20831\n",
      "size test set  22369\n",
      "Column: S46, Running time: 0.214020967484\n",
      "size train set  43200\n",
      "size test set  0\n",
      "Column: S47, Running time: 0.114825963974\n",
      "size train set  20857\n",
      "size test set  22343\n",
      "Column: S48, Running time: 0.303586006165\n",
      "size train set  16660\n",
      "size test set  26540\n",
      "Column: S49, Running time: 0.250700950623\n",
      "size train set  41791\n",
      "size test set  1409\n",
      "Column: S50, Running time: 0.241367101669\n",
      "size train set  39397\n",
      "size test set  3803\n",
      "Column: S51, Running time: 0.230736017227\n",
      "size train set  41945\n",
      "size test set  1255\n",
      "Column: S52, Running time: 0.26944899559\n",
      "size train set  41953\n",
      "size test set  1247\n",
      "Column: S53, Running time: 0.294703960419\n",
      "size train set  41932\n",
      "size test set  1268\n",
      "Column: S54, Running time: 0.264163970947\n",
      "size train set  39769\n",
      "size test set  3431\n",
      "Column: S55, Running time: 0.288365125656\n",
      "size train set  43136\n",
      "size test set  64\n",
      "Column: S56, Running time: 0.296347141266\n"
     ]
    }
   ],
   "source": [
    "from sklearn.linear_model import LinearRegression\n",
    "\n",
    "# Dataframe to store the model prediction\n",
    "df_model_lr_v2 = df_train.copy()\n",
    "\n",
    "for col in col_names:\n",
    "    start = time.time()\n",
    "    # features from avg daily\n",
    "    X = df_train.copy()\n",
    "    X = X.rename(columns={col:'Y'})\n",
    "    # S1: avg daily values for each day_time of sensor 1\n",
    "    X = pd.merge(X, df_day_avg_values[[col]], left_on='day_time', right_index=True)\n",
    "    X = X.rename(columns={col:col+'avg'})\n",
    "\n",
    "    # Features from neighbors:\n",
    "    # Issue: how to treat the missing values in the features?\n",
    "    #      - v1: with our best current model so far (using the weighted adjacency list)\n",
    "    #      - v2: recursively with the current best model (from v1)\n",
    "    neighbors_col = ['S'+str(n) for n in adjacency_list_leo[int(col[1:])]]\n",
    "    X = X[['Y']].join(df_model_lr[neighbors_col])\n",
    "    X.head()\n",
    "\n",
    "    X_train = X[X['Y'] != -1]\n",
    "    X_test = X[X['Y'] == -1]\n",
    "    test_indices = X[X['Y'] == -1].index\n",
    "    col_values = X['Y']\n",
    "\n",
    "    print 'size train set ', len(X_train)\n",
    "    print 'size test set ', len(X_test)\n",
    "    \n",
    "    if len(X_test):\n",
    "        # Models\n",
    "        lr = LinearRegression()\n",
    "        lr = lr.fit(X_train.drop('Y', axis=1), X_train.Y)\n",
    "        col_values.ix[test_indices] = lr.predict(X_test.drop('Y', axis=1))\n",
    "\n",
    "        # Filling the result with the current sensor prediction\n",
    "        df_model_lr_v2[col] = col_values\n",
    "    # Time monitoring\n",
    "    total_time = time.time() - start\n",
    "    print 'Column: {}, Running time: {}'.format(col, total_time)"
   ]
  },
  {
   "cell_type": "code",
   "execution_count": 451,
   "metadata": {
    "collapsed": false
   },
   "outputs": [
    {
     "name": "stdout",
     "output_type": "stream",
     "text": [
      "S1\n",
      "2485\n",
      "S2\n",
      "1670\n",
      "S3\n",
      "1252\n",
      "S4\n",
      "3955\n",
      "S5\n",
      "1360\n",
      "S6\n",
      "16390\n",
      "S7\n",
      "1030\n",
      "S8\n",
      "2261\n",
      "S9\n",
      "23744\n",
      "S10\n",
      "1783\n",
      "S11\n",
      "1140\n",
      "S12\n",
      "5383\n",
      "S13\n",
      "24734\n",
      "S14\n",
      "25171\n",
      "S15\n",
      "2282\n",
      "S16\n",
      "364\n",
      "S17\n",
      "16770\n",
      "S18\n",
      "2014\n",
      "S19\n",
      "1228\n",
      "S20\n",
      "24153\n",
      "S21\n",
      "2077\n",
      "S22\n",
      "1914\n",
      "S23\n",
      "21556\n",
      "S24\n",
      "1670\n",
      "S25\n",
      "1152\n",
      "S26\n",
      "18258\n",
      "S27\n",
      "924\n",
      "S28\n",
      "19198\n",
      "S29\n",
      "26673\n",
      "S30\n",
      "21927\n",
      "S31\n",
      "20133\n",
      "S32\n",
      "24649\n",
      "S33\n",
      "1282\n",
      "S34\n",
      "22818\n",
      "S35\n",
      "2736\n",
      "S36\n",
      "4664\n",
      "S37\n",
      "25001\n",
      "S38\n",
      "24233\n",
      "S39\n",
      "4992\n",
      "S40\n",
      "1370\n",
      "S41\n",
      "19801\n",
      "S42\n",
      "2666\n",
      "S43\n",
      "1046\n",
      "S44\n",
      "23579\n",
      "S45\n",
      "16810\n",
      "S46\n",
      "22367\n",
      "S47\n",
      "0\n",
      "S48\n",
      "22343\n",
      "S49\n",
      "26540\n",
      "S50\n",
      "1409\n",
      "S51\n",
      "3803\n",
      "S52\n",
      "1255\n",
      "S53\n",
      "1247\n",
      "S54\n",
      "1268\n",
      "S55\n",
      "3431\n",
      "S56\n",
      "64\n"
     ]
    }
   ],
   "source": [
    "for col in col_names:\n",
    "    print col\n",
    "    print sum(abs(df_model_lr_v2[col] - df_model_lr[col]) > 0.00001)"
   ]
  },
  {
   "cell_type": "code",
   "execution_count": 452,
   "metadata": {
    "collapsed": true
   },
   "outputs": [],
   "source": [
    "create_submission_file(df_model_lr_v2, 'model_lr_v2.csv')"
   ]
  },
  {
   "cell_type": "code",
   "execution_count": null,
   "metadata": {
    "collapsed": true
   },
   "outputs": [],
   "source": []
  }
 ],
 "metadata": {
  "kernelspec": {
   "display_name": "Python 2",
   "language": "python",
   "name": "python2"
  },
  "language_info": {
   "codemirror_mode": {
    "name": "ipython",
    "version": 2
   },
   "file_extension": ".py",
   "mimetype": "text/x-python",
   "name": "python",
   "nbconvert_exporter": "python",
   "pygments_lexer": "ipython2",
   "version": "2.7.9"
  }
 },
 "nbformat": 4,
 "nbformat_minor": 0
}
