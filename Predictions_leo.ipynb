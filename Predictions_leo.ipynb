{
 "cells": [
  {
   "cell_type": "code",
   "execution_count": 2,
   "metadata": {
    "collapsed": true
   },
   "outputs": [],
   "source": [
    "import numpy as np\n",
    "from scipy.stats.mstats import mode\n",
    "from copy import deepcopy\n",
    "import pandas as pd\n",
    "import time\n",
    "%matplotlib inline\n",
    "from helper import *"
   ]
  },
  {
   "cell_type": "code",
   "execution_count": 3,
   "metadata": {
    "collapsed": false
   },
   "outputs": [],
   "source": [
    "df_train = load_train_data()"
   ]
  },
  {
   "cell_type": "code",
   "execution_count": 5,
   "metadata": {
    "collapsed": false
   },
   "outputs": [
    {
     "data": {
      "image/png": "[encoded data removed]",
      "text/plain": [
       "<matplotlib.figure.Figure at 0x109131b90>"
      ]
     },
     "metadata": {},
     "output_type": "display_data"
    }
   ],
   "source": [
    "import seaborn as sns\n",
    "df = df_train[['S'+str(i) for i in xrange(1, 30)]][:100]\n",
    "\n",
    "_ = sns.heatmap(df)"
   ]
  },
  {
   "cell_type": "code",
   "execution_count": 74,
   "metadata": {
    "collapsed": true
   },
   "outputs": [],
   "source": [
    "# Nearest neighbors model\n",
    "adjacency_list = {\n",
    "    1: [2, 4, 35],\n",
    "    2: [1, 34, 35, 36, 41],\n",
    "    3: [4, 8],\n",
    "    4: [1, 3],\n",
    "    5: [7, 45],\n",
    "    6: [8, 12],\n",
    "    7: [5, 55],\n",
    "    8: [3, 6],\n",
    "    9: [12, 44],\n",
    "    10: [11, 55],\n",
    "    11: [10, 13],\n",
    "    12: [6, 9],\n",
    "    13: [11, 39],\n",
    "    14: [16, 54],\n",
    "    15: [14, 16],\n",
    "    16: [14, 15, 17],\n",
    "    17: [16, 56],\n",
    "    18: [19, 56],\n",
    "    19: [18, 20],\n",
    "    20: [19, 21],\n",
    "    21: [20, 22, 23],\n",
    "    22: [21, 23, 43],\n",
    "    23: [21, 24],\n",
    "    24: [23, 25],\n",
    "    25: [24, 26],\n",
    "    26: [25, 27],\n",
    "    27: [26, 28, 29],\n",
    "    28: [27, 47],\n",
    "    29: [27, 30],\n",
    "    30: [29, 31],\n",
    "    31: [30, 32],\n",
    "    32: [31, 33],\n",
    "    33: [32, 34, 35],\n",
    "    34: [2, 33, 35, 36, 41],\n",
    "    35: [1, 2, 34, 36, 41],\n",
    "    36: [2, 34, 35, 41],\n",
    "    37: [36, 38],\n",
    "    38: [37, 40],\n",
    "    39: [13, 43],\n",
    "    40: [38],\n",
    "    41: [2, 36, 42],\n",
    "    42: [41, 46],\n",
    "    43: [22, 39],\n",
    "    44: [9, 45],\n",
    "    45: [5, 44],\n",
    "    46: [42],\n",
    "    47: [28, 48],\n",
    "    48: [47, 49],\n",
    "    49: [48, 50],\n",
    "    50: [49, 51],\n",
    "    51: [50, 52, 53],\n",
    "    52: [50, 51, 53],\n",
    "    53: [51, 52, 54],\n",
    "    54: [53, 14],\n",
    "    55: [7, 10],\n",
    "    56: [17, 18]\n",
    "}"
   ]
  },
  {
   "cell_type": "code",
   "execution_count": 75,
   "metadata": {
    "collapsed": false
   },
   "outputs": [
    {
     "name": "stdout",
     "output_type": "stream",
     "text": [
      "{1: [2, 3, 4, 35, 41], 2: [1, 4, 34, 35, 36, 41, 42], 3: [1, 4, 6, 8], 4: [1, 2, 3, 8, 35], 5: [7, 44, 45, 55], 6: [3, 8, 9, 12], 7: [5, 10, 45, 55], 8: [3, 4, 6, 12], 9: [6, 12, 44, 45], 10: [7, 11, 13, 55], 11: [10, 13, 39, 55], 12: [6, 8, 9, 44], 13: [10, 11, 39, 43], 14: [15, 16, 17, 53, 54], 15: [14, 16, 17], 16: [14, 15, 17, 54, 56], 17: [14, 15, 16, 18, 56], 18: [17, 19, 20, 56], 19: [18, 20, 21, 56], 20: [18, 19, 21, 22, 23], 21: [19, 20, 22, 23, 24, 43], 22: [20, 21, 23, 39, 43], 23: [20, 21, 22, 24, 25], 24: [21, 23, 25, 26], 25: [23, 24, 26, 27], 26: [24, 25, 27, 28, 29], 27: [25, 26, 28, 29, 30, 47], 28: [26, 27, 29, 47, 48], 29: [26, 27, 28, 30, 31], 30: [27, 29, 31, 32], 31: [29, 30, 32], 32: [30, 31, 33], 33: [32, 34, 35], 34: [2, 33, 35, 36], 35: [1, 2, 4, 33, 34, 36], 36: [2, 34, 35, 37, 38, 41, 42], 37: [36, 38, 40, 41], 38: [36, 37, 40], 39: [11, 13, 22, 43], 40: [37, 38], 41: [1, 2, 36, 37, 42, 46], 42: [2, 36, 41, 46], 43: [13, 21, 22, 39], 44: [5, 9, 12, 45], 45: [5, 7, 9, 44], 46: [41, 42], 47: [27, 28, 48, 49], 48: [28, 47, 49, 50], 49: [47, 48, 50, 51, 52], 50: [48, 49, 51, 52], 51: [49, 50, 52, 53], 52: [49, 50, 51, 53, 54], 53: [14, 51, 52, 54], 54: [14, 16, 52, 53], 55: [5, 7, 10, 11], 56: [16, 17, 18, 19]}\n"
     ]
    }
   ],
   "source": [
    "\n",
    "threshold = 12 # will produce the same like above\n",
    "\n",
    "threshold = 20 # a bigger list\n",
    "\n",
    "def compute_adjlist(threshold):\n",
    "    # computing the adjacency list based on distance\n",
    "    for key in xrange(56):\n",
    "        node = key + 1\n",
    "        adjacency_list[node] = []\n",
    "        # go through all other nodes, if distance is below threshold, fine!\n",
    "        for other_key in xrange(56):\n",
    "            if other_key == key:\n",
    "                continue\n",
    "\n",
    "            a = np.array([df_sensors.loc[key].X, df_sensors.loc[key].Y])\n",
    "            b = np.array([df_sensors.loc[other_key].X, df_sensors.loc[other_key].Y])\n",
    "            dist = np.linalg.norm(a - b, ord=1)\n",
    "\n",
    "            if dist < threshold:\n",
    "                adjacency_list[node].append(other_key + 1)\n",
    "                \n",
    "    return adjacency_list\n",
    "    \n",
    "adjacency_list = compute_adjlist(20.) # best model\n",
    "print adjacency_list"
   ]
  },
  {
   "cell_type": "code",
   "execution_count": 76,
   "metadata": {
    "collapsed": false
   },
   "outputs": [],
   "source": [
    "# compute weights based on distance\n",
    "def compute_invdist_weights(adjacency_list):\n",
    "    df_sensors = pd.read_csv('data/sensor-coordinates.txt')\n",
    "    df_sensors.columns = ['SID', 'X', 'Y']\n",
    "\n",
    "    weight_list = {}\n",
    "    for key in adjacency_list.keys():\n",
    "        weight_list[key] = []\n",
    "        b = np.array([df_sensors.loc[key - 1].X, df_sensors.loc[key - 1].Y])\n",
    "        for el in adjacency_list[key]:\n",
    "            # manhattan distance\n",
    "            a = np.array([df_sensors.loc[el - 1].X, df_sensors.loc[el - 1].Y])\n",
    "            dist = np.linalg.norm(a - b, ord=1)\n",
    "\n",
    "            # inverse distance weighting\n",
    "            weight_list[key].append(1.0 / dist)\n",
    "\n",
    "        # scale it accordingly\n",
    "        weight_list[key] = np.array(weight_list[key])\n",
    "        weight_list[key] = weight_list[key] / np.sum(weight_list[key])\n",
    "    return weight_list"
   ]
  },
  {
   "cell_type": "code",
   "execution_count": 77,
   "metadata": {
    "collapsed": false
   },
   "outputs": [
    {
     "name": "stdout",
     "output_type": "stream",
     "text": [
      "{1: array([ 0.26045422,  0.14217225,  0.26045422,  0.22032459,  0.11659471]), 2: array([ 0.21620409,  0.12975295,  0.11816935,  0.14613954,  0.113855  ,\n",
      "        0.17522827,  0.10065081]), 3: array([ 0.15261928,  0.3360642 ,  0.17572633,  0.3355902 ]), 4: array([ 0.25900368,  0.15543874,  0.31131657,  0.15554843,  0.11869258]), 5: array([ 0.33266544,  0.17427463,  0.33309303,  0.1599669 ]), 6: array([ 0.16795918,  0.35258407,  0.15869974,  0.32075702]), 7: array([ 0.3439424 ,  0.16538959,  0.17208165,  0.31858636]), 8: array([ 0.32018326,  0.16020461,  0.35195339,  0.16765874]), 9: array([ 0.16636121,  0.32927571,  0.33624205,  0.16812103]), 10: array([ 0.15841786,  0.32986752,  0.18227055,  0.32944407]), 11: array([ 0.30222718,  0.37322658,  0.1735297 ,  0.15101654]), 12: array([ 0.33359112,  0.17467955,  0.32667971,  0.16504962]), 13: array([ 0.16233161,  0.36279826,  0.31525917,  0.15961096]), 14: array([ 0.14732678,  0.25878421,  0.13450389,  0.15205604,  0.30732907]), 15: array([ 0.25984206,  0.49333301,  0.24682493]), 16: array([ 0.23545246,  0.25449419,  0.2548213 ,  0.12782139,  0.12741065]), 17: array([ 0.13801767,  0.1436022 ,  0.28738897,  0.1436022 ,  0.28738897]), 18: array([ 0.16664877,  0.33351174,  0.16675587,  0.33308361]), 19: array([ 0.33340471,  0.33340471,  0.16659529,  0.16659529]), 20: array([ 0.14198107,  0.28396214,  0.28359762,  0.14188988,  0.1485693 ]), 21: array([ 0.10755054,  0.21496301,  0.21523931,  0.23652004,  0.11817656,\n",
      "        0.10755054]), 22: array([ 0.1409332 ,  0.28204755,  0.14766689,  0.14766689,  0.28168548]), 23: array([ 0.13797527,  0.28978704,  0.13806812,  0.28937831,  0.14479127]), 24: array([ 0.16666661,  0.33309815,  0.33356863,  0.16666661]), 25: array([ 0.16814651,  0.33653051,  0.33605586,  0.15926712]), 26: array([ 0.15130007,  0.30238674,  0.27241703,  0.13690434,  0.13699182]), 27: array([ 0.11539584,  0.21935474,  0.22160742,  0.22189226,  0.11087487,\n",
      "        0.11087487]), 28: array([ 0.14213974,  0.2857392 ,  0.14296136,  0.28610647,  0.14305324]), 29: array([ 0.14223071,  0.28610677,  0.14296151,  0.2857395 ,  0.14296151]), 30: array([ 0.16664877,  0.33308361,  0.33351174,  0.16675587]), 31: array([ 0.19989723,  0.40005139,  0.40005139]), 32: array([ 0.24101104,  0.48202207,  0.27696689]), 33: array([ 0.38369564,  0.33517671,  0.28112765]), 34: array([ 0.23537905,  0.23644205,  0.32780428,  0.20037462]), 35: array([ 0.22512072,  0.17988201,  0.12195554,  0.12254948,  0.20256838,\n",
      "        0.14792387]), 36: array([ 0.10625397,  0.09387994,  0.11215311,  0.23683644,  0.11982304,\n",
      "        0.22070233,  0.11035117]), 37: array([ 0.3313426 ,  0.33929857,  0.16952956,  0.15982927]), 38: array([ 0.19820946,  0.40117819,  0.40061235]), 39: array([ 0.17551995,  0.32804073,  0.16004679,  0.33639254]), 40: array([ 0.33349012,  0.66650988]), 41: array([ 0.09820185,  0.17779212,  0.2399508 ,  0.12420607,  0.2399508 ,\n",
      "        0.11989835]), 42: array([ 0.1455388 ,  0.17098003,  0.34196007,  0.34152109]), 43: array([ 0.17290773,  0.15902625,  0.31784836,  0.35021765]), 44: array([ 0.1604538 ,  0.33652299,  0.16650021,  0.33652299]), 45: array([ 0.3178984 ,  0.15884711,  0.17441816,  0.34883633]), 46: array([ 0.33347603,  0.66652397]), 47: array([ 0.1652797 ,  0.33077183,  0.33077183,  0.17317664]), 48: array([ 0.16013204,  0.32026408,  0.35192861,  0.16767527]), 49: array([ 0.14841955,  0.31151335,  0.28348515,  0.14165154,  0.11493041]), 50: array([ 0.1633996 ,  0.31209744,  0.31169681,  0.21280615]), 51: array([ 0.18929614,  0.37834928,  0.24317994,  0.18917464]), 52: array([ 0.14557767,  0.24484096,  0.23049797,  0.23358156,  0.14550184]), 53: array([ 0.19618571,  0.18044552,  0.23506197,  0.3883068 ]), 54: array([ 0.35642021,  0.16292839,  0.13161559,  0.34903581]), 55: array([ 0.16538959,  0.31858636,  0.3439424 ,  0.17208165]), 56: array([ 0.16675587,  0.33351174,  0.33308361,  0.16664877])}\n"
     ]
    }
   ],
   "source": [
    "weight_list = compute_invdist_weights(adjacency_list)\n",
    "print weight_list"
   ]
  },
  {
   "cell_type": "code",
   "execution_count": 66,
   "metadata": {
    "collapsed": false
   },
   "outputs": [],
   "source": [
    "# Several possibilities to average the result among the neighbors:\n",
    "#    - cumulative sum of neighbors (v1)\n",
    "#    - average (truncated) (v2)\n",
    "#    - average (raw) (v3) \n",
    "#    - average (rounded) (v4)\n",
    "#    - average with inv distance weight, larger adj list (raw) (v5 Leo) ** best\n",
    "def fill_neighbors(row, col_name, adjacency_list):\n",
    "    if row[col_name] == -1:\n",
    "        new_value = 0.\n",
    "        count = 0\n",
    "        col_ind = int(col_name[1:])\n",
    "        pos = 0\n",
    "        for n in adjacency_list[col_ind]:\n",
    "            if row[n] != -1:\n",
    "                new_value += row[n] * weight_list[col_ind][pos]\n",
    "                count += weight_list[col_ind][pos] # + 1\n",
    "            pos = pos + 1\n",
    "            \n",
    "        # if some neighbours were working return their average (raw)\n",
    "        if count:\n",
    "            return new_value / (1. * count)#round(new_value / (1. * count))\n",
    "        \n",
    "        # if no neighbours were working, return 0 (most frequent value)\n",
    "        return new_value\n",
    "    else:\n",
    "        return row[col_name]\n",
    "\n"
   ]
  },
  {
   "cell_type": "code",
   "execution_count": 67,
   "metadata": {
    "collapsed": true
   },
   "outputs": [],
   "source": [
    "col_names = ['S'+str(i) for i in xrange(1, 57)]\n",
    "df_train_neighbors_avg = df_train.copy()"
   ]
  },
  {
   "cell_type": "code",
   "execution_count": 68,
   "metadata": {
    "collapsed": false
   },
   "outputs": [
    {
     "name": "stdout",
     "output_type": "stream",
     "text": [
      "Col S1 computed in 0.942090034485\n",
      "Col S2 computed in 0.906429052353\n",
      "Col S3 computed in 0.806999921799\n",
      "Col S4 computed in 1.12859916687\n",
      "Col S5 computed in 0.834068059921\n",
      "Col S6 computed in 1.86708593369\n",
      "Col S7 computed in 0.773229837418\n",
      "Col S8 computed in 0.880380868912\n",
      "Col S9 computed in 2.2086930275\n",
      "Col S10 computed in 0.828159093857\n",
      "Col S11 computed in 0.779759168625\n",
      "Col S12 computed in 1.01583504677\n",
      "Col S13 computed in 2.72057294846\n",
      "Col S14 computed in 3.12556099892\n",
      "Col S15 computed in 0.830410957336\n",
      "Col S16 computed in 0.760320901871\n",
      "Col S17 computed in 2.3074657917\n",
      "Col S18 computed in 0.844022989273\n",
      "Col S19 computed in 0.974555015564\n",
      "Col S20 computed in 3.06198501587\n",
      "Col S21 computed in 0.90279507637\n",
      "Col S22 computed in 1.02028298378\n",
      "Col S23 computed in 3.06308603287\n",
      "Col S24 computed in 0.887583971024\n",
      "Col S25 computed in 1.01239609718\n",
      "Col S26 computed in 2.49779891968\n",
      "Col S27 computed in 0.798434972763\n",
      "Col S28 computed in 2.46609997749\n",
      "Col S29 computed in 3.31261396408\n",
      "Col S30 computed in 2.09221506119\n",
      "Col S31 computed in 1.50370001793\n",
      "Col S32 computed in 2.05226588249\n",
      "Col S33 computed in 0.834344148636\n",
      "Col S34 computed in 2.89161300659\n",
      "Col S35 computed in 0.991940975189\n",
      "Col S36 computed in 1.25819993019\n",
      "Col S37 computed in 2.3789908886\n",
      "Col S38 computed in 1.99653601646\n",
      "Col S39 computed in 1.07985401154\n",
      "Col S40 computed in 0.737053871155\n",
      "Col S41 computed in 2.84839200974\n",
      "Col S42 computed in 0.935547113419\n",
      "Col S43 computed in 0.810446977615\n",
      "Col S44 computed in 2.65145611763\n",
      "Col S45 computed in 1.86726093292\n",
      "Col S46 computed in 1.49036598206\n",
      "Col S47 computed in 0.714858055115\n",
      "Col S48 computed in 2.19792103767\n",
      "Col S49 computed in 3.25156903267\n",
      "Col S50 computed in 0.795731067657\n",
      "Col S51 computed in 1.087059021\n",
      "Col S52 computed in 0.838261842728\n",
      "Col S53 computed in 0.776086807251\n",
      "Col S54 computed in 0.791362047195\n",
      "Col S55 computed in 0.979878902435\n",
      "Col S56 computed in 0.698640823364\n"
     ]
    }
   ],
   "source": [
    "for col_name in col_names:\n",
    "    start = time.time()\n",
    "    df_train_neighbors_avg[col_name] = df_train.apply(lambda row: fill_neighbors(row, col_name, adjacency_list),axis=1)\n",
    "    total_time = time.time() - start\n",
    "    print 'Col {} computed in {}'.format(col_name, total_time)"
   ]
  },
  {
   "cell_type": "code",
   "execution_count": 69,
   "metadata": {
    "collapsed": false
   },
   "outputs": [
    {
     "name": "stdout",
     "output_type": "stream",
     "text": [
      "0\n"
     ]
    }
   ],
   "source": [
    "# Checking that all the values are filled (i.e no -1 left)\n",
    "cum_sum = 0\n",
    "for col in col_names:\n",
    "    cum_sum += len(df_train_neighbors_avg[df_train_neighbors_avg[col] == -1])\n",
    "print cum_sum"
   ]
  },
  {
   "cell_type": "code",
   "execution_count": 70,
   "metadata": {
    "collapsed": true
   },
   "outputs": [],
   "source": [
    "create_submission_file(df_train_neighbors_avg, 'nearest_v5Leo.csv')"
   ]
  },
  {
   "cell_type": "code",
   "execution_count": null,
   "metadata": {
    "collapsed": true
   },
   "outputs": [],
   "source": []
  },
  {
   "cell_type": "code",
   "execution_count": null,
   "metadata": {
    "collapsed": true
   },
   "outputs": [],
   "source": []
  }
 ],
 "metadata": {
  "kernelspec": {
   "display_name": "Python 2",
   "language": "python",
   "name": "python2"
  },
  "language_info": {
   "codemirror_mode": {
    "name": "ipython",
    "version": 2
   },
   "file_extension": ".py",
   "mimetype": "text/x-python",
   "name": "python",
   "nbconvert_exporter": "python",
   "pygments_lexer": "ipython2",
   "version": "2.7.11"
  }
 },
 "nbformat": 4,
 "nbformat_minor": 0
}
