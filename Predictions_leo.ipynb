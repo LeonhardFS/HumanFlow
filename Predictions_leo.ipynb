{
 "cells": [
  {
   "cell_type": "code",
   "execution_count": 2,
   "metadata": {
    "collapsed": true
   },
   "outputs": [],
   "source": [
    "import numpy as np\n",
    "from scipy.stats.mstats import mode\n",
    "from copy import deepcopy\n",
    "import pandas as pd\n",
    "import time\n",
    "%matplotlib inline\n",
    "from helper import *"
   ]
  },
  {
   "cell_type": "code",
   "execution_count": 3,
   "metadata": {
    "collapsed": false
   },
   "outputs": [],
   "source": [
    "df_train = load_train_data()"
   ]
  },
  {
   "cell_type": "code",
   "execution_count": 5,
   "metadata": {
    "collapsed": false
   },
   "outputs": [
    {
     "data": {
      "image/png": "[encoded data removed]",
      "text/plain": [
       "<matplotlib.figure.Figure at 0x109131b90>"
      ]
     },
     "metadata": {},
     "output_type": "display_data"
    }
   ],
   "source": [
    "import seaborn as sns\n",
    "df = df_train[['S'+str(i) for i in xrange(1, 30)]][:100]\n",
    "\n",
    "_ = sns.heatmap(df)"
   ]
  },
  {
   "cell_type": "code",
   "execution_count": 74,
   "metadata": {
    "collapsed": true
   },
   "outputs": [],
   "source": [
    "# Nearest neighbors model\n",
    "adjacency_list = {\n",
    "    1: [2, 4, 35],\n",
    "    2: [1, 34, 35, 36, 41],\n",
    "    3: [4, 8],\n",
    "    4: [1, 3],\n",
    "    5: [7, 45],\n",
    "    6: [8, 12],\n",
    "    7: [5, 55],\n",
    "    8: [3, 6],\n",
    "    9: [12, 44],\n",
    "    10: [11, 55],\n",
    "    11: [10, 13],\n",
    "    12: [6, 9],\n",
    "    13: [11, 39],\n",
    "    14: [16, 54],\n",
    "    15: [14, 16],\n",
    "    16: [14, 15, 17],\n",
    "    17: [16, 56],\n",
    "    18: [19, 56],\n",
    "    19: [18, 20],\n",
    "    20: [19, 21],\n",
    "    21: [20, 22, 23],\n",
    "    22: [21, 23, 43],\n",
    "    23: [21, 24],\n",
    "    24: [23, 25],\n",
    "    25: [24, 26],\n",
    "    26: [25, 27],\n",
    "    27: [26, 28, 29],\n",
    "    28: [27, 47],\n",
    "    29: [27, 30],\n",
    "    30: [29, 31],\n",
    "    31: [30, 32],\n",
    "    32: [31, 33],\n",
    "    33: [32, 34, 35],\n",
    "    34: [2, 33, 35, 36, 41],\n",
    "    35: [1, 2, 34, 36, 41],\n",
    "    36: [2, 34, 35, 41],\n",
    "    37: [36, 38],\n",
    "    38: [37, 40],\n",
    "    39: [13, 43],\n",
    "    40: [38],\n",
    "    41: [2, 36, 42],\n",
    "    42: [41, 46],\n",
    "    43: [22, 39],\n",
    "    44: [9, 45],\n",
    "    45: [5, 44],\n",
    "    46: [42],\n",
    "    47: [28, 48],\n",
    "    48: [47, 49],\n",
    "    49: [48, 50],\n",
    "    50: [49, 51],\n",
    "    51: [50, 52, 53],\n",
    "    52: [50, 51, 53],\n",
    "    53: [51, 52, 54],\n",
    "    54: [53, 14],\n",
    "    55: [7, 10],\n",
    "    56: [17, 18]\n",
    "}"
   ]
  },
  {
   "cell_type": "code",
   "execution_count": 158,
   "metadata": {
    "collapsed": false
   },
   "outputs": [
    {
     "name": "stdout",
     "output_type": "stream",
     "text": [
      "{1: [2, 3, 4, 8, 33, 34, 35, 36, 41, 42], 2: [1, 3, 4, 34, 35, 36, 37, 41, 42, 46], 3: [1, 2, 4, 6, 8, 12, 35], 4: [1, 2, 3, 6, 8, 35, 41], 5: [7, 9, 10, 44, 45, 55], 6: [3, 4, 8, 9, 12, 44], 7: [5, 10, 11, 44, 45, 55], 8: [1, 3, 4, 6, 9, 12], 9: [5, 6, 8, 12, 44, 45], 10: [5, 7, 11, 13, 39, 55], 11: [7, 10, 13, 39, 43, 55], 12: [3, 6, 8, 9, 44, 45], 13: [10, 11, 22, 39, 43, 55], 14: [15, 16, 17, 52, 53, 54, 56], 15: [14, 16, 17, 54, 56], 16: [14, 15, 17, 18, 53, 54, 56], 17: [14, 15, 16, 18, 19, 54, 56], 18: [16, 17, 19, 20, 21, 56], 19: [17, 18, 20, 21, 22, 23, 56], 20: [18, 19, 21, 22, 23, 24, 43, 56], 21: [18, 19, 20, 22, 23, 24, 25, 39, 43], 22: [13, 19, 20, 21, 23, 24, 39, 43], 23: [19, 20, 21, 22, 24, 25, 26, 43], 24: [20, 21, 22, 23, 25, 26, 27], 25: [21, 23, 24, 26, 27, 28, 29], 26: [23, 24, 25, 27, 28, 29, 30, 47], 27: [24, 25, 26, 28, 29, 30, 31, 47, 48], 28: [25, 26, 27, 29, 30, 47, 48, 49], 29: [25, 26, 27, 28, 30, 31, 32, 47], 30: [26, 27, 28, 29, 31, 32], 31: [27, 29, 30, 32, 33], 32: [29, 30, 31, 33], 33: [1, 31, 32, 34, 35], 34: [1, 2, 33, 35, 36, 37, 41], 35: [1, 2, 3, 4, 33, 34, 36, 37, 41], 36: [1, 2, 34, 35, 37, 38, 40, 41, 42, 46], 37: [2, 34, 35, 36, 38, 40, 41, 42], 38: [36, 37, 40, 41], 39: [10, 11, 13, 21, 22, 43], 40: [36, 37, 38], 41: [1, 2, 4, 34, 35, 36, 37, 38, 42, 46], 42: [1, 2, 36, 37, 41, 46], 43: [11, 13, 20, 21, 22, 23, 39], 44: [5, 6, 7, 9, 12, 45], 45: [5, 7, 9, 12, 44, 55], 46: [2, 36, 41, 42], 47: [26, 27, 28, 29, 48, 49, 50], 48: [27, 28, 47, 49, 50, 51, 52], 49: [28, 47, 48, 50, 51, 52], 50: [47, 48, 49, 51, 52, 53], 51: [48, 49, 50, 52, 53, 54], 52: [14, 48, 49, 50, 51, 53, 54], 53: [14, 16, 50, 51, 52, 54], 54: [14, 15, 16, 17, 51, 52, 53], 55: [5, 7, 10, 11, 13, 45], 56: [14, 15, 16, 17, 18, 19, 20]}\n"
     ]
    }
   ],
   "source": [
    "\n",
    "threshold = 12 # will produce the same like above\n",
    "\n",
    "threshold = 20 # a bigger list\n",
    "\n",
    "def compute_adjlist(threshold):\n",
    "    # computing the adjacency list based on distance\n",
    "    for key in xrange(56):\n",
    "        node = key + 1\n",
    "        adjacency_list[node] = []\n",
    "        # go through all other nodes, if distance is below threshold, fine!\n",
    "        for other_key in xrange(56):\n",
    "            if other_key == key:\n",
    "                continue\n",
    "\n",
    "            a = np.array([df_sensors.loc[key].X, df_sensors.loc[key].Y])\n",
    "            b = np.array([df_sensors.loc[other_key].X, df_sensors.loc[other_key].Y])\n",
    "            dist = np.linalg.norm(a - b, ord=1)\n",
    "\n",
    "            if dist < threshold:\n",
    "                adjacency_list[node].append(other_key + 1)\n",
    "                \n",
    "    return adjacency_list\n",
    "    \n",
    "adjacency_list = compute_adjlist(27.) # best model\n",
    "print adjacency_list"
   ]
  },
  {
   "cell_type": "code",
   "execution_count": 159,
   "metadata": {
    "collapsed": false
   },
   "outputs": [],
   "source": [
    "# compute weights based on distance\n",
    "def compute_invdist_weights(adjacency_list):\n",
    "    df_sensors = pd.read_csv('data/sensor-coordinates.txt')\n",
    "    df_sensors.columns = ['SID', 'X', 'Y']\n",
    "\n",
    "    weight_list = {}\n",
    "    for key in adjacency_list.keys():\n",
    "        weight_list[key] = []\n",
    "        b = np.array([df_sensors.loc[key - 1].X, df_sensors.loc[key - 1].Y])\n",
    "        for el in adjacency_list[key]:\n",
    "            # manhattan distance\n",
    "            a = np.array([df_sensors.loc[el - 1].X, df_sensors.loc[el - 1].Y])\n",
    "            dist = np.linalg.norm(a - b, ord=1)\n",
    "\n",
    "            # inverse distance weighting\n",
    "            weight_list[key].append(1.0 / dist)\n",
    "\n",
    "        # scale it accordingly\n",
    "        weight_list[key] = np.array(weight_list[key])\n",
    "        weight_list[key] = weight_list[key] / np.sum(weight_list[key])\n",
    "    return weight_list"
   ]
  },
  {
   "cell_type": "code",
   "execution_count": 160,
   "metadata": {
    "collapsed": false
   },
   "outputs": [
    {
     "name": "stdout",
     "output_type": "stream",
     "text": [
      "{1: array([ 0.17543772,  0.09576491,  0.17543772,  0.06582782,  0.06617797,\n",
      "        0.07029072,  0.14840706,  0.06839097,  0.0785363 ,  0.05572882]), 2: array([ 0.17496312,  0.07003462,  0.10500255,  0.09562852,  0.11826339,\n",
      "        0.09213714,  0.06360257,  0.14180344,  0.08145165,  0.05711301]), 3: array([ 0.11561967,  0.08478413,  0.25459191,  0.13312487,  0.25423282,\n",
      "        0.08737328,  0.07027332]), 4: array([ 0.21652198,  0.12994373,  0.26025453,  0.08935994,  0.13003543,\n",
      "        0.09922467,  0.07465973]), 5: array([ 0.27133525,  0.09625235,  0.08810761,  0.14214537,  0.27168401,\n",
      "        0.13047541]), 6: array([ 0.13807213,  0.09066424,  0.28984444,  0.13046034,  0.26368077,\n",
      "        0.08727809]), 7: array([ 0.27963461,  0.13446627,  0.09084044,  0.09613211,  0.13990711,\n",
      "        0.25901946]), 8: array([ 0.08276648,  0.26475934,  0.13247309,  0.29103003,  0.09033415,\n",
      "        0.13863691]), 9: array([ 0.08874403,  0.13599573,  0.09378339,  0.26917387,  0.27486866,\n",
      "        0.13743433]), 10: array([ 0.08716463,  0.12907898,  0.26877629,  0.14851417,  0.09803467,\n",
      "        0.26843126]), 11: array([ 0.0808967 ,  0.24934485,  0.30792111,  0.14316627,  0.09407871,\n",
      "        0.12459236]), 12: array([ 0.09358416,  0.27230483,  0.14258798,  0.26666315,  0.13472723,\n",
      "        0.09013264]), 13: array([ 0.13439325,  0.30035824,  0.08558376,  0.26100095,  0.13214085,\n",
      "        0.08652295]), 14: array([ 0.12551827,  0.22047687,  0.11459353,  0.07061298,  0.12954747,\n",
      "        0.26183572,  0.07741515]), 15: array([ 0.193879  ,  0.36809634,  0.18416638,  0.13105441,  0.12280387]), 16: array([ 0.20088989,  0.21713644,  0.21741554,  0.07244081,  0.07435134,\n",
      "        0.10905821,  0.10870777]), 17: array([ 0.11581021,  0.12049618,  0.24114723,  0.12049618,  0.08034799,\n",
      "        0.08055498,  0.24114723]), 18: array([ 0.09091703,  0.13634635,  0.27286795,  0.13643397,  0.09091703,\n",
      "        0.27251767]), 19: array([ 0.08310595,  0.24942465,  0.24942465,  0.12463223,  0.08310595,\n",
      "        0.08567434,  0.12463223]), 20: array([ 0.11008087,  0.22016174,  0.21987912,  0.11001017,  0.11518886,\n",
      "        0.07799901,  0.07332441,  0.07335582]), 21: array([ 0.05856814,  0.0878334 ,  0.17555405,  0.1757797 ,  0.19315904,\n",
      "        0.09651136,  0.06435605,  0.06040486,  0.0878334 ]), 22: array([ 0.07674507,  0.07266953,  0.10898095,  0.21810199,  0.11418798,\n",
      "        0.07730449,  0.11418798,  0.21782201]), 23: array([ 0.0708966 ,  0.10798978,  0.22680904,  0.10806245,  0.22648914,\n",
      "        0.11332449,  0.07553189,  0.0708966 ]), 24: array([ 0.08133158,  0.12604386,  0.08136863,  0.25190995,  0.25226575,\n",
      "        0.12604386,  0.08103637]), 25: array([ 0.08483753,  0.12722636,  0.25463242,  0.25427328,  0.12050786,\n",
      "        0.07924385,  0.0792787 ]), 26: array([ 0.07855213,  0.11785592,  0.23554561,  0.21220056,  0.1066423 ,\n",
      "        0.10671044,  0.07124652,  0.07124652]), 27: array([ 0.06387808,  0.09410914,  0.17889108,  0.18072822,  0.18096051,\n",
      "        0.09042215,  0.06029434,  0.09042215,  0.06029434]), 28: array([ 0.07576164,  0.1100624 ,  0.2212551 ,  0.1106986 ,  0.07378327,\n",
      "        0.22153949,  0.11076975,  0.07612974]), 29: array([ 0.07596594,  0.11038117,  0.22203925,  0.11094832,  0.22175422,\n",
      "        0.11094832,  0.07398139,  0.07398139]), 30: array([ 0.0906031 ,  0.13639927,  0.09091338,  0.27262345,  0.27297386,\n",
      "        0.13648693]), 31: array([ 0.10419418,  0.15625781,  0.31271646,  0.31271646,  0.1141151 ]), 32: array([ 0.13838057,  0.20765979,  0.41531958,  0.23864006]), 33: array([ 0.15623538,  0.16532224,  0.26031538,  0.22739808,  0.19072891]), 34: array([ 0.11845587,  0.16159298,  0.16232276,  0.22504497,  0.13756166,\n",
      "        0.09851225,  0.0965095 ]), 35: array([ 0.17495143,  0.13979439,  0.06861643,  0.09477713,  0.09523871,\n",
      "        0.15742499,  0.11495828,  0.07801469,  0.07622396]), 36: array([ 0.06382596,  0.08622034,  0.07617937,  0.09100723,  0.19218217,\n",
      "        0.09723104,  0.06504765,  0.17909007,  0.08954503,  0.05967112]), 37: array([ 0.07285614,  0.06678004,  0.07560116,  0.23524996,  0.24089862,\n",
      "        0.12036431,  0.1134772 ,  0.07477257]), 38: array([ 0.17564534,  0.35550815,  0.35500673,  0.11383979]), 39: array([ 0.09165276,  0.14427699,  0.26964873,  0.08634953,  0.13155809,\n",
      "        0.2765139 ]), 40: array([ 0.18074028,  0.27321502,  0.54604469]), 41: array([ 0.07481866,  0.13545741,  0.05762977,  0.05455707,  0.06159822,\n",
      "        0.18281527,  0.09463092,  0.06432848,  0.18281527,  0.09134893]), 42: array([ 0.08167124,  0.11969215,  0.1406152 ,  0.09592163,  0.2812304 ,\n",
      "        0.28086938]), 43: array([ 0.08992079,  0.12948091,  0.07937357,  0.11908585,  0.23801883,\n",
      "        0.08186166,  0.26225837]), 44: array([ 0.13187816,  0.09155127,  0.0865414 ,  0.27659072,  0.13684774,\n",
      "        0.27659072]), 45: array([ 0.26087128,  0.13035187,  0.14312966,  0.09475157,  0.28625932,\n",
      "        0.0846363 ]), 46: array([ 0.14010586,  0.15642654,  0.23458958,  0.46887802]), 47: array([ 0.0823198 ,  0.12392911,  0.24801751,  0.0826371 ,  0.24801751,\n",
      "        0.12985035,  0.08522863]), 48: array([ 0.08136012,  0.12209246,  0.24418492,  0.2683275 ,  0.12784379,\n",
      "        0.08387456,  0.07231666]), 49: array([ 0.08876912,  0.13524448,  0.28386058,  0.25832043,  0.12907726,\n",
      "        0.10472814]), 50: array([ 0.08855155,  0.134913  ,  0.2576873 ,  0.2573565 ,  0.17570615,\n",
      "        0.0857855 ]), 51: array([ 0.10333307,  0.15032075,  0.30044854,  0.19311008,  0.15022427,\n",
      "        0.10256328]), 52: array([ 0.08763137,  0.08769809,  0.12005361,  0.20191313,  0.19008489,\n",
      "        0.19262783,  0.11999108]), 53: array([ 0.15772173,  0.09934735,  0.0967117 ,  0.14506754,  0.18897595,\n",
      "        0.31217573]), 54: array([ 0.26703467,  0.08652997,  0.12206807,  0.08129136,  0.08296563,\n",
      "        0.09860811,  0.26150218]), 55: array([ 0.13400095,  0.25812312,  0.27866693,  0.13942295,  0.09925996,\n",
      "        0.09052608]), 56: array([ 0.08132857,  0.08352288,  0.12533799,  0.25067599,  0.2503542 ,\n",
      "        0.12525749,  0.08352288])}\n"
     ]
    }
   ],
   "source": [
    "weight_list = compute_invdist_weights(adjacency_list)\n",
    "print weight_list"
   ]
  },
  {
   "cell_type": "code",
   "execution_count": 161,
   "metadata": {
    "collapsed": false
   },
   "outputs": [
    {
     "name": "stdout",
     "output_type": "stream",
     "text": [
      "{1: 9.0, 2: 9.0, 3: 9.0, 4: 9.0, 5: 9.0, 6: 6.0, 7: 9.0, 8: 9.0, 9: 4.0, 10: 9.0, 11: 9.0, 12: 8.0, 13: 4.0, 14: 4.0, 15: 9.0, 16: 9.0, 17: 6.0, 18: 9.0, 19: 9.0, 20: 4.0, 21: 9.0, 22: 9.0, 23: 5.0, 24: 9.0, 25: 9.0, 26: 5.0, 27: 9.0, 28: 5.0, 29: 3.0, 30: 4.0, 31: 5.0, 32: 4.0, 33: 9.0, 34: 4.0, 35: 9.0, 36: 8.0, 37: 4.0, 38: 4.0, 39: 8.0, 40: 9.0, 41: 5.0, 42: 9.0, 43: 9.0, 44: 4.0, 45: 6.0, 46: 4.0, 47: 10.0, 48: 4.0, 49: 3.0, 50: 9.0, 51: 9.0, 52: 9.0, 53: 9.0, 54: 9.0, 55: 9.0, 56: 9.0}\n"
     ]
    },
    {
     "data": {
      "text/plain": [
       "{1: array([ 0.1125,  0.1125,  0.1125,  0.1125,  0.1125,  0.05  ,  0.1125,\n",
       "         0.1   ,  0.0625,  0.1125]),\n",
       " 2: array([ 0.12857143,  0.12857143,  0.12857143,  0.05714286,  0.12857143,\n",
       "         0.11428571,  0.05714286,  0.07142857,  0.12857143,  0.05714286]),\n",
       " 3: array([ 0.15254237,  0.15254237,  0.15254237,  0.10169492,  0.15254237,\n",
       "         0.13559322,  0.15254237]),\n",
       " 4: array([ 0.16071429,  0.16071429,  0.16071429,  0.10714286,  0.16071429,\n",
       "         0.16071429,  0.08928571]),\n",
       " 5: array([ 0.2195122 ,  0.09756098,  0.2195122 ,  0.09756098,  0.14634146,\n",
       "         0.2195122 ]),\n",
       " 6: array([ 0.20930233,  0.20930233,  0.20930233,  0.09302326,  0.18604651,\n",
       "         0.09302326]),\n",
       " 7: array([ 0.19565217,  0.19565217,  0.19565217,  0.08695652,  0.13043478,\n",
       "         0.19565217]),\n",
       " 8: array([ 0.2       ,  0.2       ,  0.2       ,  0.13333333,  0.08888889,\n",
       "         0.17777778]),\n",
       " 9: array([ 0.21428571,  0.14285714,  0.21428571,  0.19047619,  0.0952381 ,\n",
       "         0.14285714]),\n",
       " 10: array([ 0.1875    ,  0.1875    ,  0.1875    ,  0.08333333,  0.16666667,\n",
       "         0.1875    ]),\n",
       " 11: array([ 0.1875    ,  0.1875    ,  0.08333333,  0.16666667,  0.1875    ,\n",
       "         0.1875    ]),\n",
       " 12: array([ 0.23684211,  0.15789474,  0.23684211,  0.10526316,  0.10526316,\n",
       "         0.15789474]),\n",
       " 13: array([ 0.16981132,  0.16981132,  0.16981132,  0.1509434 ,  0.16981132,\n",
       "         0.16981132]),\n",
       " 14: array([ 0.15,  0.15,  0.1 ,  0.15,  0.15,  0.15,  0.15]),\n",
       " 15: array([ 0.10810811,  0.24324324,  0.16216216,  0.24324324,  0.24324324]),\n",
       " 16: array([ 0.07272727,  0.16363636,  0.10909091,  0.16363636,  0.16363636,\n",
       "         0.16363636,  0.16363636]),\n",
       " 17: array([ 0.06896552,  0.15517241,  0.15517241,  0.15517241,  0.15517241,\n",
       "         0.15517241,  0.15517241]),\n",
       " 18: array([ 0.19565217,  0.13043478,  0.19565217,  0.08695652,  0.19565217,\n",
       "         0.19565217]),\n",
       " 19: array([ 0.11764706,  0.17647059,  0.07843137,  0.17647059,  0.17647059,\n",
       "         0.09803922,  0.17647059]),\n",
       " 20: array([ 0.13235294,  0.13235294,  0.13235294,  0.13235294,  0.07352941,\n",
       "         0.13235294,  0.13235294,  0.13235294]),\n",
       " 21: array([ 0.12676056,  0.12676056,  0.05633803,  0.12676056,  0.07042254,\n",
       "         0.12676056,  0.12676056,  0.11267606,  0.12676056]),\n",
       " 22: array([ 0.07017544,  0.15789474,  0.07017544,  0.15789474,  0.0877193 ,\n",
       "         0.15789474,  0.14035088,  0.15789474]),\n",
       " 23: array([ 0.14285714,  0.06349206,  0.14285714,  0.14285714,  0.14285714,\n",
       "         0.14285714,  0.07936508,  0.14285714]),\n",
       " 24: array([ 0.08,  0.18,  0.18,  0.1 ,  0.18,  0.1 ,  0.18]),\n",
       " 25: array([ 0.2       ,  0.11111111,  0.2       ,  0.11111111,  0.2       ,\n",
       "         0.11111111,  0.06666667]),\n",
       " 26: array([ 0.09259259,  0.16666667,  0.16666667,  0.16666667,  0.09259259,\n",
       "         0.05555556,  0.07407407,  0.18518519]),\n",
       " 27: array([ 0.16666667,  0.16666667,  0.09259259,  0.09259259,  0.05555556,\n",
       "         0.07407407,  0.09259259,  0.18518519,  0.07407407]),\n",
       " 28: array([ 0.19148936,  0.10638298,  0.19148936,  0.06382979,  0.08510638,\n",
       "         0.21276596,  0.08510638,  0.06382979]),\n",
       " 29: array([ 0.17647059,  0.09803922,  0.17647059,  0.09803922,  0.07843137,\n",
       "         0.09803922,  0.07843137,  0.19607843]),\n",
       " 30: array([ 0.16129032,  0.29032258,  0.16129032,  0.09677419,  0.16129032,\n",
       "         0.12903226]),\n",
       " 31: array([ 0.31034483,  0.10344828,  0.13793103,  0.13793103,  0.31034483]),\n",
       " 32: array([ 0.14285714,  0.19047619,  0.23809524,  0.42857143]),\n",
       " 33: array([ 0.29032258,  0.16129032,  0.12903226,  0.12903226,  0.29032258]),\n",
       " 34: array([ 0.16981132,  0.16981132,  0.16981132,  0.16981132,  0.1509434 ,\n",
       "         0.0754717 ,  0.09433962]),\n",
       " 35: array([ 0.13636364,  0.13636364,  0.13636364,  0.13636364,  0.13636364,\n",
       "         0.06060606,  0.12121212,  0.06060606,  0.07575758]),\n",
       " 36: array([ 0.13636364,  0.13636364,  0.06060606,  0.13636364,  0.06060606,\n",
       "         0.06060606,  0.13636364,  0.07575758,  0.13636364,  0.06060606]),\n",
       " 37: array([ 0.15789474,  0.07017544,  0.15789474,  0.14035088,  0.07017544,\n",
       "         0.15789474,  0.0877193 ,  0.15789474]),\n",
       " 38: array([ 0.30769231,  0.15384615,  0.34615385,  0.19230769]),\n",
       " 39: array([ 0.18367347,  0.18367347,  0.08163265,  0.18367347,  0.18367347,\n",
       "         0.18367347]),\n",
       " 40: array([ 0.5 ,  0.25,  0.25]),\n",
       " 41: array([ 0.13043478,  0.13043478,  0.13043478,  0.05797101,  0.13043478,\n",
       "         0.11594203,  0.05797101,  0.05797101,  0.13043478,  0.05797101]),\n",
       " 42: array([ 0.23076923,  0.23076923,  0.20512821,  0.1025641 ,  0.12820513,\n",
       "         0.1025641 ]),\n",
       " 43: array([ 0.1875    ,  0.08333333,  0.08333333,  0.1875    ,  0.1875    ,\n",
       "         0.10416667,  0.16666667]),\n",
       " 44: array([ 0.21428571,  0.14285714,  0.21428571,  0.0952381 ,  0.19047619,\n",
       "         0.14285714]),\n",
       " 45: array([ 0.20930233,  0.20930233,  0.09302326,  0.18604651,  0.09302326,\n",
       "         0.20930233]),\n",
       " 46: array([ 0.29032258,  0.25806452,  0.16129032,  0.29032258]),\n",
       " 47: array([ 0.13157895,  0.23684211,  0.13157895,  0.07894737,  0.10526316,\n",
       "         0.07894737,  0.23684211]),\n",
       " 48: array([ 0.16666667,  0.09259259,  0.18518519,  0.05555556,  0.16666667,\n",
       "         0.16666667,  0.16666667]),\n",
       " 49: array([ 0.10869565,  0.2173913 ,  0.08695652,  0.19565217,  0.19565217,\n",
       "         0.19565217]),\n",
       " 50: array([ 0.22727273,  0.09090909,  0.06818182,  0.20454545,  0.20454545,\n",
       "         0.20454545]),\n",
       " 51: array([ 0.09302326,  0.06976744,  0.20930233,  0.20930233,  0.20930233,\n",
       "         0.20930233]),\n",
       " 52: array([ 0.08510638,  0.08510638,  0.06382979,  0.19148936,  0.19148936,\n",
       "         0.19148936,  0.19148936]),\n",
       " 53: array([ 0.08163265,  0.18367347,  0.18367347,  0.18367347,  0.18367347,\n",
       "         0.18367347]),\n",
       " 54: array([ 0.07272727,  0.16363636,  0.16363636,  0.10909091,  0.16363636,\n",
       "         0.16363636,  0.16363636]),\n",
       " 55: array([ 0.19565217,  0.19565217,  0.19565217,  0.19565217,  0.08695652,\n",
       "         0.13043478]),\n",
       " 56: array([ 0.08,  0.18,  0.18,  0.12,  0.18,  0.18,  0.08])}"
      ]
     },
     "execution_count": 161,
     "metadata": {},
     "output_type": "execute_result"
    }
   ],
   "source": [
    "# compute for each node a reliability score\n",
    "def compute_reliability(df):\n",
    "    reliability_weights = {}\n",
    "    for i in xrange(56):\n",
    "        sid = 'S'+str(i+1)\n",
    "        idxs = df[sid] == -1\n",
    "        reliability_weights[i+1] =  int((1. - np.sum(idxs * 1.) / (1. * df.count()[0])) * 10) * 1.# // 100\n",
    "    return reliability_weights\n",
    "\n",
    "def compute_reliability_weights(df, adjacency_list):\n",
    "    \n",
    "    reliability_factors = compute_reliability(df)\n",
    "\n",
    "    print reliability_factors\n",
    "    weight_list = {}\n",
    "    for key in adjacency_list.keys():\n",
    "        weight_list[key] = []\n",
    "        for el in adjacency_list[key]:\n",
    "            # inverse distance weighting\n",
    "            weight_list[key].append(reliability_factors[el])\n",
    "\n",
    "        # scale it accordingly\n",
    "        weight_list[key] = np.array(weight_list[key])\n",
    "        weight_list[key] = weight_list[key] / np.sum(weight_list[key])\n",
    "    return weight_list\n",
    "reliability_weights = compute_reliability_weights(df_train, adjacency_list)\n",
    "reliability_weights"
   ]
  },
  {
   "cell_type": "code",
   "execution_count": 162,
   "metadata": {
    "collapsed": false
   },
   "outputs": [],
   "source": [
    "# Several possibilities to average the result among the neighbors:\n",
    "#    - cumulative sum of neighbors (v1)\n",
    "#    - average (truncated) (v2)\n",
    "#    - average (raw) (v3) \n",
    "#    - average (rounded) (v4)\n",
    "#    - average with inv distance weight, larger adj list (raw) (v5 Leo) ** best (20. euclidean)\n",
    "def fill_neighbors(row, col_name, adjacency_list):\n",
    "    if row[col_name] == -1:\n",
    "        new_value = 0.\n",
    "        count = 0\n",
    "        col_ind = int(col_name[1:])\n",
    "        pos = 0\n",
    "        for n in adjacency_list[col_ind]:\n",
    "            if row[n] != -1:\n",
    "                new_value += row[n] * weight_list[col_ind][pos]\n",
    "                count += weight_list[col_ind][pos] # + 1\n",
    "            pos = pos + 1\n",
    "            \n",
    "        # if some neighbours were working return their average (raw)\n",
    "        if count:\n",
    "            return round(new_value / (1. * count))\n",
    "        \n",
    "        # if no neighbours were working, return 0 (most frequent value)\n",
    "        return new_value\n",
    "    else:\n",
    "        return row[col_name]\n",
    "\n"
   ]
  },
  {
   "cell_type": "code",
   "execution_count": 163,
   "metadata": {
    "collapsed": true
   },
   "outputs": [],
   "source": [
    "col_names = ['S'+str(i) for i in xrange(1, 57)]\n",
    "df_train_neighbors_avg = df_train.copy()"
   ]
  },
  {
   "cell_type": "code",
   "execution_count": 164,
   "metadata": {
    "collapsed": false
   },
   "outputs": [
    {
     "name": "stdout",
     "output_type": "stream",
     "text": [
      "Col S1 computed in 1.26983189583\n",
      "Col S2 computed in 1.02723884583\n",
      "Col S3 computed in 0.898528814316\n",
      "Col S4 computed in 1.32541394234\n",
      "Col S5 computed in 0.956779956818\n",
      "Col S6 computed in 2.90486502647\n",
      "Col S7 computed in 0.865741968155\n",
      "Col S8 computed in 0.970973014832\n",
      "Col S9 computed in 3.18105888367\n",
      "Col S10 computed in 0.918576002121\n",
      "Col S11 computed in 0.828794956207\n",
      "Col S12 computed in 1.18708205223\n",
      "Col S13 computed in 3.62233400345\n",
      "Col S14 computed in 4.24609208107\n",
      "Col S15 computed in 1.00753211975\n",
      "Col S16 computed in 0.760680913925\n",
      "Col S17 computed in 3.04136395454\n",
      "Col S18 computed in 0.95379114151\n",
      "Col S19 computed in 0.851037025452\n",
      "Col S20 computed in 4.46872997284\n",
      "Col S21 computed in 1.08219003677\n",
      "Col S22 computed in 1.02289819717\n",
      "Col S23 computed in 4.31780910492\n",
      "Col S24 computed in 0.928390979767\n",
      "Col S25 computed in 0.843271017075\n",
      "Col S26 computed in 3.24072480202\n",
      "Col S27 computed in 0.932601928711\n",
      "Col S28 computed in 3.18478608131\n",
      "Col S29 computed in 4.2467648983\n",
      "Col S30 computed in 3.38187289238\n",
      "Col S31 computed in 2.86350297928\n",
      "Col S32 computed in 3.66202306747\n",
      "Col S33 computed in 1.00727295876\n",
      "Col S34 computed in 4.09475708008\n",
      "Col S35 computed in 1.30121994019\n",
      "Col S36 computed in 1.59563803673\n",
      "Col S37 computed in 5.16893219948\n",
      "Col S38 computed in 2.98458099365\n",
      "Col S39 computed in 1.60940504074\n",
      "Col S40 computed in 1.12211108208\n",
      "Col S41 computed in 4.26017689705\n",
      "Col S42 computed in 1.03361105919\n",
      "Col S43 computed in 1.50909018517\n",
      "Col S44 computed in 3.96844887733\n",
      "Col S45 computed in 2.50143814087\n",
      "Col S46 computed in 2.64328813553\n",
      "Col S47 computed in 0.736162900925\n",
      "Col S48 computed in 3.63794803619\n",
      "Col S49 computed in 3.68788695335\n",
      "Col S50 computed in 0.881283044815\n",
      "Col S51 computed in 1.13244891167\n",
      "Col S52 computed in 0.930686950684\n",
      "Col S53 computed in 0.840763092041\n",
      "Col S54 computed in 0.922287940979\n",
      "Col S55 computed in 1.06629705429\n",
      "Col S56 computed in 0.951534986496\n"
     ]
    }
   ],
   "source": [
    "for col_name in col_names:\n",
    "    start = time.time()\n",
    "    df_train_neighbors_avg[col_name] = df_train.apply(lambda row: fill_neighbors(row, col_name, adjacency_list),axis=1)\n",
    "    total_time = time.time() - start\n",
    "    print 'Col {} computed in {}'.format(col_name, total_time)"
   ]
  },
  {
   "cell_type": "code",
   "execution_count": 167,
   "metadata": {
    "collapsed": false
   },
   "outputs": [
    {
     "name": "stdout",
     "output_type": "stream",
     "text": [
      "0\n"
     ]
    }
   ],
   "source": [
    "# Checking that all the values are filled (i.e no -1 left)\n",
    "cum_sum = 0\n",
    "for col in col_names:\n",
    "    cum_sum += len(df_train_neighbors_avg[df_train_neighbors_avg[col] == -1])\n",
    "print cum_sum"
   ]
  },
  {
   "cell_type": "code",
   "execution_count": 168,
   "metadata": {
    "collapsed": true
   },
   "outputs": [],
   "source": [
    "create_submission_file(df_train_neighbors_avg, 'nearest_v8Leo.csv')"
   ]
  },
  {
   "cell_type": "code",
   "execution_count": 126,
   "metadata": {
    "collapsed": false
   },
   "outputs": [
    {
     "data": {
      "image/png": "[encoded data removed]",
      "text/plain": [
       "<matplotlib.figure.Figure at 0x109113690>"
      ]
     },
     "metadata": {},
     "output_type": "display_data"
    }
   ],
   "source": [
    "import matplotlib as mpl\n",
    "import matplotlib.pyplot as plt\n",
    "# plot the network\n",
    "%matplotlib inline\n",
    "df_sensors = pd.read_csv('data/sensor-coordinates.txt')\n",
    "df_sensors.columns = ['SID', 'X', 'Y']\n",
    "plt.scatter(df_sensors.X, df_sensors.Y)\n",
    "\n",
    "# plot lines for network\n",
    "for key in adjacency_list.keys():\n",
    "    a = np.array([df_sensors.loc[key - 1].X, df_sensors.loc[key - 1].Y])\n",
    "    \n",
    "    for key2 in adjacency_list[key]:\n",
    "        b = np.array([df_sensors.loc[key2 - 1].X, df_sensors.loc[key2 - 1].Y])\n",
    "        plt.plot([a[0], b[0]], [a[1], b[1]], color=sns.color_palette()[0])\n",
    "    "
   ]
  },
  {
   "cell_type": "code",
   "execution_count": null,
   "metadata": {
    "collapsed": true
   },
   "outputs": [],
   "source": []
  }
 ],
 "metadata": {
  "kernelspec": {
   "display_name": "Python 2",
   "language": "python",
   "name": "python2"
  },
  "language_info": {
   "codemirror_mode": {
    "name": "ipython",
    "version": 2
   },
   "file_extension": ".py",
   "mimetype": "text/x-python",
   "name": "python",
   "nbconvert_exporter": "python",
   "pygments_lexer": "ipython2",
   "version": "2.7.11"
  }
 },
 "nbformat": 4,
 "nbformat_minor": 0
}
